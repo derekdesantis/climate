{
 "cells": [
  {
   "cell_type": "code",
   "execution_count": 1,
   "metadata": {},
   "outputs": [],
   "source": [
    "import numpy as np\n",
    "import xarray as xr\n",
    "import pandas as pd\n",
    "import dask.array as da\n",
    "import time\n",
    "from sklearn import metrics\n",
    "from sklearn.cluster import DBSCAN\n",
    "from sklearn.neighbors import NearestNeighbors\n",
    "import matplotlib.pyplot as plt\n",
    "import math\n",
    "import pywt\n",
    "import scipy\n",
    "from scipy import ndimage"
   ]
  },
  {
   "cell_type": "markdown",
   "metadata": {},
   "source": [
    "# Import functions"
   ]
  },
  {
   "cell_type": "markdown",
   "metadata": {},
   "source": [
    "# Clustering for DWT"
   ]
  },
  {
   "cell_type": "code",
   "execution_count": 34,
   "metadata": {},
   "outputs": [],
   "source": [
    "def filter_out_nan(shaped):\n",
    "    '''This function filters out nan values from a matrix nxm, and saves the index for threading back together'''\n",
    "    data = []\n",
    "    index = []\n",
    "    index_nan = []\n",
    "    count = 0\n",
    "    for p in range(shaped.shape[0]):\n",
    "        if np.isnan(shaped[p][0]):  #check if nan\n",
    "            index_nan.append(count)\n",
    "            count = count +1\n",
    "        else:\n",
    "            data.append(shaped[p])\n",
    "            index.append(count)\n",
    "            count = count + 1    \n",
    "            \n",
    "    data = da.stack(data, axis=0)\n",
    "    return data, index, index_nan"
   ]
  },
  {
   "cell_type": "code",
   "execution_count": 35,
   "metadata": {},
   "outputs": [],
   "source": [
    "def filter_in_nan(classes, index, index_nan):\n",
    "    '''The inverse function of filter_out_nan - used to put nan values back into set after clustering'''\n",
    "    classes_nan = np.ones(len(index_nan))*np.nan\n",
    "    classes = np.append(classes, classes_nan)\n",
    "\n",
    "\n",
    "    index_all = index + index_nan\n",
    "    index_all = np.array(index_all)\n",
    "\n",
    "    classes = classes[np.argsort(index_all)]\n",
    "    \n",
    "    return classes"
   ]
  },
  {
   "cell_type": "markdown",
   "metadata": {},
   "source": [
    "# Index maps to return labels to initial data"
   ]
  },
  {
   "cell_type": "code",
   "execution_count": 37,
   "metadata": {},
   "outputs": [],
   "source": [
    "#First, dwt_length is run to compute the length of each wavelet transform level.  This information is used to build the functions that will map the index up one level in the DWT (map_back_index)"
   ]
  },
  {
   "cell_type": "code",
   "execution_count": 38,
   "metadata": {},
   "outputs": [],
   "source": [
    "#Record the lengths of the data at each wavelet transform.  This function is run outside map_back_classes\n",
    "def dwt_length(data, wavelet):\n",
    "    \n",
    "    dwt_lengths = [data.size]\n",
    "    max_level = pywt.dwt_max_level(data_len = data.size, filter_len = pywt.Wavelet(wave).dec_len)\n",
    "    \n",
    "    for i in range(max_level):\n",
    "        l = pywt.dwt_coeff_len(dwt_lengths[i], pywt.Wavelet(wave).dec_len, mode='symmetric')\n",
    "        dwt_lengths.append(l)\n",
    "    \n",
    "    return dwt_lengths"
   ]
  },
  {
   "cell_type": "code",
   "execution_count": 39,
   "metadata": {},
   "outputs": [],
   "source": [
    "def middle_match(data_len,wavelet):\n",
    "    \n",
    "    #Grab the filter and its length\n",
    "    w_fil = pywt.Wavelet(wavelet).dec_lo\n",
    "    w_fil = np.array(w_fil)\n",
    "    w_fil = np.flip(w_fil, axis=0)\n",
    "    w_len = pywt.Wavelet(wavelet).dec_len\n",
    "    \n",
    "    #Build the first row of the matrix\n",
    "    I_m = np.zeros(data_len)\n",
    "    I_m[:w_len] = w_fil\n",
    "    \n",
    "    #Make the shift matrix\n",
    "    row_number = int(np.ceil((data_len-w_len)/2))\n",
    "    if data_len%2 == 0:\n",
    "        for j in range(1, row_number+1):\n",
    "            row = np.zeros(data_len)\n",
    "            row[2*j:w_len + 2*j]= w_fil\n",
    "            I_m = np.concatenate((I_m,row), axis=0)\n",
    "    \n",
    "        I_m = np.reshape(I_m, (row_number+1,data_len))\n",
    "    else:\n",
    "        for j in range(1, row_number):\n",
    "            row = np.zeros(data_len)\n",
    "            row[2*j:w_len + 2*j]= w_fil\n",
    "            I_m = np.concatenate((I_m,row), axis=0)\n",
    "    \n",
    "        I_m = np.reshape(I_m, (row_number,data_len))        \n",
    "        \n",
    "        \n",
    "    return I_m"
   ]
  },
  {
   "cell_type": "code",
   "execution_count": 40,
   "metadata": {},
   "outputs": [],
   "source": [
    "def top_match(data_len, wavelet):\n",
    "    \n",
    "    #Grab the filter and its length\n",
    "    w_fil = pywt.Wavelet(wavelet).dec_lo\n",
    "    w_fil = np.array(w_fil)\n",
    "    w_fil = np.flip(w_fil, axis=0)\n",
    "    w_len = pywt.Wavelet(wavelet).dec_len\n",
    "    \n",
    "    #Build blank matrix\n",
    "    row_number = int(np.ceil((w_len)/2))\n",
    "    I_t = np.zeros((row_number-1,data_len))\n",
    "    \n",
    "    #Make the shift matrix\n",
    "    for j in range(1,row_number):\n",
    "        overflow = w_fil[:2*j]\n",
    "        overflow = np.flip(overflow, axis=0)\n",
    "        row_o = np.zeros(data_len)\n",
    "        row_o[:2*j] = overflow\n",
    "        \n",
    "        leftover = w_fil[2*j:]\n",
    "        row_l = np.zeros(data_len)\n",
    "        row_l[:leftover.size] = leftover\n",
    "        \n",
    "        row = row_o + row_l      \n",
    "        \n",
    "        I_t[j-1] = row\n",
    "    \n",
    "    return I_t"
   ]
  },
  {
   "cell_type": "code",
   "execution_count": 41,
   "metadata": {},
   "outputs": [],
   "source": [
    "def bot_match(data_len, wavelet):\n",
    "   \n",
    "    #Grab the filter and its length\n",
    "    w_fil = pywt.Wavelet(wavelet).dec_lo\n",
    "    w_fil = np.array(w_fil)\n",
    "    w_fil = np.flip(w_fil, axis=0)\n",
    "    w_len = pywt.Wavelet(wavelet).dec_len\n",
    "\n",
    "    row_number = int(np.ceil((w_len)/2))\n",
    "    if data_len%2 ==0:\n",
    "        I_b = np.zeros((row_number-1,data_len))\n",
    "        for j in range(1,row_number):\n",
    "            overflow = w_fil[-2*j:]\n",
    "            overflow = np.flip(overflow, axis=0)\n",
    "            row_o = np.zeros(data_len)\n",
    "            row_o[-2*j:] = overflow\n",
    "            \n",
    "            \n",
    "            leftover = w_fil[:-2*j]\n",
    "            row_l = np.zeros(data_len)\n",
    "            row_l[-leftover.size:] = leftover\n",
    "            \n",
    "            row = row_o + row_l\n",
    "            \n",
    "            I_b[j-1] = row         \n",
    "    else:\n",
    "        I_b = np.zeros((row_number,data_len))\n",
    "        for j in range(1,row_number+1):         \n",
    "            overflow = w_fil[-2*j+1:]\n",
    "            overflow = np.flip(overflow, axis=0)\n",
    "            row_o = np.zeros(data_len)\n",
    "            row_o[-2*j+1:] = overflow\n",
    "            \n",
    "            leftover = w_fil[:-2*j+1]\n",
    "            row_l = np.zeros(data_len)\n",
    "            row_l[-leftover.size:] = leftover\n",
    "\n",
    "            \n",
    "            row = row_o + row_l\n",
    "            \n",
    "            I_b[j-1] = row\n",
    "            \n",
    "    return I_b"
   ]
  },
  {
   "cell_type": "code",
   "execution_count": 42,
   "metadata": {},
   "outputs": [],
   "source": [
    "#Function used to build filter matrix for mapping classes back one level\n",
    "def filter_matrix(data_len, wavelet):\n",
    "    \n",
    "    I_m = middle_match(data_len, wavelet)\n",
    "    I_t = top_match(data_len, wavelet)\n",
    "    I_b = bot_match(data_len, wavelet)\n",
    "    \n",
    "    I = np.concatenate((I_t,I_m), axis=0)\n",
    "    I = np.concatenate((I,I_b), axis=0)\n",
    "    \n",
    "    return I"
   ]
  },
  {
   "cell_type": "code",
   "execution_count": 44,
   "metadata": {},
   "outputs": [],
   "source": [
    "#Function used to discover classes at one stage higher resolution\n",
    "def map_back_index(wavelet, dwt_lengths, max_level):\n",
    "    \n",
    "    index_up=[]\n",
    "    \n",
    "    for j in range(max_level):\n",
    "        I = filter_matrix(dwt_lengths[j], wavelet)\n",
    "        I = np.abs(I)\n",
    "        classes_index = np.argmax(I,axis=0)\n",
    "        index_up.append(classes_index)\n",
    "        \n",
    "    return index_up"
   ]
  },
  {
   "cell_type": "markdown",
   "metadata": {},
   "source": [
    "# Having clustered, we now map each class back to initial data"
   ]
  },
  {
   "cell_type": "code",
   "execution_count": 45,
   "metadata": {},
   "outputs": [],
   "source": [
    "def map_back_classes(data_classes, index_up, max_level):\n",
    "    \n",
    "    final_class = []\n",
    "    for j in range(max_level):\n",
    "        classt = data_classes[j]\n",
    "        for i in range(j+1):\n",
    "            classt = classt[index_up[j-i]][:,index_up[j-i]]\n",
    "        final_class.append(classt)\n",
    "        \n",
    "    return final_class"
   ]
  },
  {
   "cell_type": "markdown",
   "metadata": {},
   "source": [
    "# Clustering function"
   ]
  },
  {
   "cell_type": "code",
   "execution_count": 95,
   "metadata": {},
   "outputs": [],
   "source": [
    "#Function to compute single level for feature data - adjusted to remove feature\n",
    "def single_level_class(data_set, level, wavelet='haar', metric='euclidean', n_neighbors=3, eps_percentile=98, ratio_dwt=0.001):\n",
    "    '''The following code computes one level of WaveScan'''\n",
    "    \n",
    "    startt=time.time()\n",
    "    \n",
    "    lvl = str(level)\n",
    "    print(\"LEVEL: \" + lvl)\n",
    "    \n",
    "    #Compute DWT\n",
    "    start = time.time()\n",
    "    wp = pywt.wavedecn(data=data_set, wavelet=wave, level = min(level,max_level), mode='constant')\n",
    "    end = time.time()\n",
    "    diff = str(end-start)\n",
    "    print(\"DWT:\" + diff)\n",
    "    \n",
    "    #Reshape the data for DBScan\n",
    "    start = time.time()\n",
    "    shaped = np.reshape(wp[0], (wp[0].shape[0], wp[0].shape[1]*wp[0].shape[2]))\n",
    "    shaped = np.transpose(shaped)\n",
    "    shaped.shape\n",
    "    \n",
    "    #Filter out the nan values for clustering\n",
    "    data, index, index_nan = filter_out_nan(shaped)\n",
    "    \n",
    "    end = time.time()\n",
    "    diff = str(end-start)\n",
    "    print(\"Prep Data:\" + diff)\n",
    "    #Discover the epsilon for DBScan using knn. \n",
    "    start = time.time()\n",
    "    \n",
    "    nbrs = NearestNeighbors(n_neighbors=n_neighbors, metric=metric, algorithm='ball_tree').fit(data)\n",
    "    distances, indices = nbrs.kneighbors(data)\n",
    "\n",
    "    #Set the distance to use as within eps_percentile:\n",
    "    epsilon = np.percentile(distances[:,[1,-1]], eps_percentile)\n",
    "    if epsilon ==0:\n",
    "        epsilon = 1\n",
    "    print(epsilon)\n",
    "    \n",
    "    #Choose the min cluster size.  This is done by setting a percent of the size of the DWT coefficents (as long as it is\n",
    "    # at least 2).\n",
    "    min_size = max(np.ceil(data.shape[0]*ratio_dwt), 2)\n",
    "    end = time.time()\n",
    "    diff = str(end-start)\n",
    "    print(\"Find Params:\" + diff)\n",
    "    \n",
    "    #Perform db scan and return the result\n",
    "    start = time.time()\n",
    "    classes = DBSCAN(eps=epsilon, min_samples=min_size, metric=metric).fit_predict(data)\n",
    "    end = time.time()\n",
    "    diff = str(end-start)\n",
    "    print(\"DBSCAN:\" + diff)\n",
    "    \n",
    "    #Filter back in the nan values before reshaping:\n",
    "    start = time.time()\n",
    "    classes = filter_in_nan(classes, index, index_nan)\n",
    "    \n",
    "    #Reshape classes to match back up with original\n",
    "    classes = np.reshape(classes, (wp[0].shape[1], wp[0].shape[2]))\n",
    "    \n",
    "    end = time.time()\n",
    "    diff = str(end-start)\n",
    "    print(\"Find Classes:\" + diff)\n",
    "    \n",
    "    \n",
    "    endt = time.time()\n",
    "    difft = str(endt - startt)\n",
    "    print(\"TOTAL: \" + difft)\n",
    "    print(\"\")\n",
    "    \n",
    "    return classes"
   ]
  },
  {
   "cell_type": "markdown",
   "metadata": {},
   "source": [
    "# Make Examples"
   ]
  },
  {
   "cell_type": "code",
   "execution_count": 76,
   "metadata": {},
   "outputs": [],
   "source": [
    "test1 = np.kron([[1, 0] * 1, [0, 1] * 1] * 1, np.ones((256, 128,128)))"
   ]
  },
  {
   "cell_type": "code",
   "execution_count": 77,
   "metadata": {},
   "outputs": [
    {
     "data": {
      "text/plain": [
       "(256, 256, 256)"
      ]
     },
     "execution_count": 77,
     "metadata": {},
     "output_type": "execute_result"
    }
   ],
   "source": [
    "test1.shape"
   ]
  },
  {
   "cell_type": "code",
   "execution_count": 78,
   "metadata": {},
   "outputs": [
    {
     "data": {
      "text/plain": [
       "<matplotlib.colorbar.Colorbar at 0x7f8e1e5fb358>"
      ]
     },
     "execution_count": 78,
     "metadata": {},
     "output_type": "execute_result"
    },
    {
     "data": {
      "image/png": "[encoded data removed]",
      "text/plain": [
       "<Figure size 432x288 with 2 Axes>"
      ]
     },
     "metadata": {},
     "output_type": "display_data"
    }
   ],
   "source": [
    "p = plt.pcolormesh(test1[0])\n",
    "plt.colorbar(p)"
   ]
  },
  {
   "cell_type": "code",
   "execution_count": 79,
   "metadata": {},
   "outputs": [],
   "source": [
    "test2 = np.kron([[1, 0] * 2, [0, 1] * 2] * 2, np.ones((256, 64, 64)))"
   ]
  },
  {
   "cell_type": "code",
   "execution_count": 80,
   "metadata": {},
   "outputs": [
    {
     "data": {
      "text/plain": [
       "(256, 256, 256)"
      ]
     },
     "execution_count": 80,
     "metadata": {},
     "output_type": "execute_result"
    }
   ],
   "source": [
    "test2.shape"
   ]
  },
  {
   "cell_type": "code",
   "execution_count": 81,
   "metadata": {},
   "outputs": [
    {
     "data": {
      "text/plain": [
       "<matplotlib.colorbar.Colorbar at 0x7f8e1e715940>"
      ]
     },
     "execution_count": 81,
     "metadata": {},
     "output_type": "execute_result"
    },
    {
     "data": {
      "image/png": "[encoded data removed]",
      "text/plain": [
       "<Figure size 432x288 with 2 Axes>"
      ]
     },
     "metadata": {},
     "output_type": "display_data"
    }
   ],
   "source": [
    "p = plt.pcolormesh(test2[34])\n",
    "plt.colorbar(p)"
   ]
  },
  {
   "cell_type": "code",
   "execution_count": 83,
   "metadata": {},
   "outputs": [],
   "source": [
    "test3 = np.kron([[1, 0] * 4, [0, 1] * 4] * 4, np.ones((256, 32, 32)))"
   ]
  },
  {
   "cell_type": "code",
   "execution_count": 85,
   "metadata": {},
   "outputs": [
    {
     "data": {
      "text/plain": [
       "(256, 256, 256)"
      ]
     },
     "execution_count": 85,
     "metadata": {},
     "output_type": "execute_result"
    }
   ],
   "source": [
    "test3.shape"
   ]
  },
  {
   "cell_type": "code",
   "execution_count": 86,
   "metadata": {},
   "outputs": [
    {
     "data": {
      "text/plain": [
       "<matplotlib.colorbar.Colorbar at 0x7f8e0e716828>"
      ]
     },
     "execution_count": 86,
     "metadata": {},
     "output_type": "execute_result"
    },
    {
     "data": {
      "image/png": "[encoded data removed]",
      "text/plain": [
       "<Figure size 432x288 with 2 Axes>"
      ]
     },
     "metadata": {},
     "output_type": "display_data"
    }
   ],
   "source": [
    "p = plt.pcolormesh(test3[34])\n",
    "plt.colorbar(p)"
   ]
  },
  {
   "cell_type": "code",
   "execution_count": 89,
   "metadata": {},
   "outputs": [],
   "source": [
    "test = test1-test2+test3"
   ]
  },
  {
   "cell_type": "code",
   "execution_count": 90,
   "metadata": {
    "scrolled": false
   },
   "outputs": [
    {
     "data": {
      "text/plain": [
       "<matplotlib.colorbar.Colorbar at 0x7f8e1e317780>"
      ]
     },
     "execution_count": 90,
     "metadata": {},
     "output_type": "execute_result"
    },
    {
     "data": {
      "image/png": "[encoded data removed]",
      "text/plain": [
       "<Figure size 432x288 with 2 Axes>"
      ]
     },
     "metadata": {},
     "output_type": "display_data"
    }
   ],
   "source": [
    "p = plt.pcolormesh(test[34])\n",
    "plt.colorbar(p)"
   ]
  },
  {
   "cell_type": "code",
   "execution_count": null,
   "metadata": {},
   "outputs": [],
   "source": []
  },
  {
   "cell_type": "markdown",
   "metadata": {},
   "source": [
    "# Try to seperate layers"
   ]
  },
  {
   "cell_type": "code",
   "execution_count": 91,
   "metadata": {},
   "outputs": [
    {
     "data": {
      "text/plain": [
       "8"
      ]
     },
     "execution_count": 91,
     "metadata": {},
     "output_type": "execute_result"
    }
   ],
   "source": [
    "#Set the number of levels for DWT, as well as the wavelet\n",
    "min_len = min(test.shape)\n",
    "wave = 'haar'\n",
    "\n",
    "#figure out max possible levels to loop over given size of data\n",
    "max_level = pywt.dwt_max_level(data_len = min_len, filter_len = pywt.Wavelet(wave).dec_len) \n",
    "max_level"
   ]
  },
  {
   "cell_type": "code",
   "execution_count": 92,
   "metadata": {},
   "outputs": [
    {
     "data": {
      "text/plain": [
       "[256, 128, 64, 32, 16, 8, 4, 2, 1]"
      ]
     },
     "execution_count": 92,
     "metadata": {},
     "output_type": "execute_result"
    }
   ],
   "source": [
    "#dwt_lengths need to be computed for both lat and lon.\n",
    "dwt_lengths = dwt_length(test[0][0], wave)\n",
    "dwt_lengths"
   ]
  },
  {
   "cell_type": "code",
   "execution_count": 93,
   "metadata": {},
   "outputs": [
    {
     "data": {
      "text/plain": [
       "[array([  0,   0,   1,   1,   2,   2,   3,   3,   4,   4,   5,   5,   6,\n",
       "          6,   7,   7,   8,   8,   9,   9,  10,  10,  11,  11,  12,  12,\n",
       "         13,  13,  14,  14,  15,  15,  16,  16,  17,  17,  18,  18,  19,\n",
       "         19,  20,  20,  21,  21,  22,  22,  23,  23,  24,  24,  25,  25,\n",
       "         26,  26,  27,  27,  28,  28,  29,  29,  30,  30,  31,  31,  32,\n",
       "         32,  33,  33,  34,  34,  35,  35,  36,  36,  37,  37,  38,  38,\n",
       "         39,  39,  40,  40,  41,  41,  42,  42,  43,  43,  44,  44,  45,\n",
       "         45,  46,  46,  47,  47,  48,  48,  49,  49,  50,  50,  51,  51,\n",
       "         52,  52,  53,  53,  54,  54,  55,  55,  56,  56,  57,  57,  58,\n",
       "         58,  59,  59,  60,  60,  61,  61,  62,  62,  63,  63,  64,  64,\n",
       "         65,  65,  66,  66,  67,  67,  68,  68,  69,  69,  70,  70,  71,\n",
       "         71,  72,  72,  73,  73,  74,  74,  75,  75,  76,  76,  77,  77,\n",
       "         78,  78,  79,  79,  80,  80,  81,  81,  82,  82,  83,  83,  84,\n",
       "         84,  85,  85,  86,  86,  87,  87,  88,  88,  89,  89,  90,  90,\n",
       "         91,  91,  92,  92,  93,  93,  94,  94,  95,  95,  96,  96,  97,\n",
       "         97,  98,  98,  99,  99, 100, 100, 101, 101, 102, 102, 103, 103,\n",
       "        104, 104, 105, 105, 106, 106, 107, 107, 108, 108, 109, 109, 110,\n",
       "        110, 111, 111, 112, 112, 113, 113, 114, 114, 115, 115, 116, 116,\n",
       "        117, 117, 118, 118, 119, 119, 120, 120, 121, 121, 122, 122, 123,\n",
       "        123, 124, 124, 125, 125, 126, 126, 127, 127]),\n",
       " array([ 0,  0,  1,  1,  2,  2,  3,  3,  4,  4,  5,  5,  6,  6,  7,  7,  8,\n",
       "         8,  9,  9, 10, 10, 11, 11, 12, 12, 13, 13, 14, 14, 15, 15, 16, 16,\n",
       "        17, 17, 18, 18, 19, 19, 20, 20, 21, 21, 22, 22, 23, 23, 24, 24, 25,\n",
       "        25, 26, 26, 27, 27, 28, 28, 29, 29, 30, 30, 31, 31, 32, 32, 33, 33,\n",
       "        34, 34, 35, 35, 36, 36, 37, 37, 38, 38, 39, 39, 40, 40, 41, 41, 42,\n",
       "        42, 43, 43, 44, 44, 45, 45, 46, 46, 47, 47, 48, 48, 49, 49, 50, 50,\n",
       "        51, 51, 52, 52, 53, 53, 54, 54, 55, 55, 56, 56, 57, 57, 58, 58, 59,\n",
       "        59, 60, 60, 61, 61, 62, 62, 63, 63]),\n",
       " array([ 0,  0,  1,  1,  2,  2,  3,  3,  4,  4,  5,  5,  6,  6,  7,  7,  8,\n",
       "         8,  9,  9, 10, 10, 11, 11, 12, 12, 13, 13, 14, 14, 15, 15, 16, 16,\n",
       "        17, 17, 18, 18, 19, 19, 20, 20, 21, 21, 22, 22, 23, 23, 24, 24, 25,\n",
       "        25, 26, 26, 27, 27, 28, 28, 29, 29, 30, 30, 31, 31]),\n",
       " array([ 0,  0,  1,  1,  2,  2,  3,  3,  4,  4,  5,  5,  6,  6,  7,  7,  8,\n",
       "         8,  9,  9, 10, 10, 11, 11, 12, 12, 13, 13, 14, 14, 15, 15]),\n",
       " array([0, 0, 1, 1, 2, 2, 3, 3, 4, 4, 5, 5, 6, 6, 7, 7]),\n",
       " array([0, 0, 1, 1, 2, 2, 3, 3]),\n",
       " array([0, 0, 1, 1]),\n",
       " array([0, 0])]"
      ]
     },
     "execution_count": 93,
     "metadata": {},
     "output_type": "execute_result"
    }
   ],
   "source": [
    "index_up = map_back_index(wave,dwt_lengths,max_level)\n",
    "index_up"
   ]
  },
  {
   "cell_type": "code",
   "execution_count": null,
   "metadata": {},
   "outputs": [
    {
     "name": "stdout",
     "output_type": "stream",
     "text": [
      "LEVEL: 1\n",
      "DWT:1.399580478668213\n",
      "Prep Data:2.6170008182525635\n",
      "1\n",
      "Find Params:24.47932267189026\n",
      "DBSCAN:86.2150285243988\n",
      "Find Classes:0.15708470344543457\n",
      "TOTAL: 115.45112419128418\n",
      "\n",
      "LEVEL: 2\n"
     ]
    }
   ],
   "source": [
    "class_sets = []\n",
    "for i in range(1,max_level+1):\n",
    "    classes = single_level_class(test, level = i, n_neighbors = 32)\n",
    "    class_sets.append(classes)"
   ]
  },
  {
   "cell_type": "code",
   "execution_count": 75,
   "metadata": {},
   "outputs": [
    {
     "ename": "IndexError",
     "evalue": "list index out of range",
     "output_type": "error",
     "traceback": [
      "\u001b[0;31m---------------------------------------------------------------------------\u001b[0m",
      "\u001b[0;31mIndexError\u001b[0m                                Traceback (most recent call last)",
      "\u001b[0;32m<ipython-input-75-933937b0427f>\u001b[0m in \u001b[0;36m<module>\u001b[0;34m()\u001b[0m\n\u001b[0;32m----> 1\u001b[0;31m \u001b[0mclass_sets\u001b[0m \u001b[0;34m=\u001b[0m \u001b[0mmap_back_classes\u001b[0m\u001b[0;34m(\u001b[0m\u001b[0mclass_sets\u001b[0m\u001b[0;34m,\u001b[0m \u001b[0mindex_up\u001b[0m\u001b[0;34m,\u001b[0m \u001b[0mmax_level\u001b[0m\u001b[0;34m)\u001b[0m\u001b[0;34m\u001b[0m\u001b[0m\n\u001b[0m",
      "\u001b[0;32m<ipython-input-45-c8c2858ff021>\u001b[0m in \u001b[0;36mmap_back_classes\u001b[0;34m(data_classes, index_up, max_level)\u001b[0m\n\u001b[1;32m      3\u001b[0m     \u001b[0mfinal_class\u001b[0m \u001b[0;34m=\u001b[0m \u001b[0;34m[\u001b[0m\u001b[0;34m]\u001b[0m\u001b[0;34m\u001b[0m\u001b[0m\n\u001b[1;32m      4\u001b[0m     \u001b[0;32mfor\u001b[0m \u001b[0mj\u001b[0m \u001b[0;32min\u001b[0m \u001b[0mrange\u001b[0m\u001b[0;34m(\u001b[0m\u001b[0mmax_level\u001b[0m\u001b[0;34m)\u001b[0m\u001b[0;34m:\u001b[0m\u001b[0;34m\u001b[0m\u001b[0m\n\u001b[0;32m----> 5\u001b[0;31m         \u001b[0mclasst\u001b[0m \u001b[0;34m=\u001b[0m \u001b[0mdata_classes\u001b[0m\u001b[0;34m[\u001b[0m\u001b[0mj\u001b[0m\u001b[0;34m]\u001b[0m\u001b[0;34m\u001b[0m\u001b[0m\n\u001b[0m\u001b[1;32m      6\u001b[0m         \u001b[0;32mfor\u001b[0m \u001b[0mi\u001b[0m \u001b[0;32min\u001b[0m \u001b[0mrange\u001b[0m\u001b[0;34m(\u001b[0m\u001b[0mj\u001b[0m\u001b[0;34m+\u001b[0m\u001b[0;36m1\u001b[0m\u001b[0;34m)\u001b[0m\u001b[0;34m:\u001b[0m\u001b[0;34m\u001b[0m\u001b[0m\n\u001b[1;32m      7\u001b[0m             \u001b[0mclasst\u001b[0m \u001b[0;34m=\u001b[0m \u001b[0mclasst\u001b[0m\u001b[0;34m[\u001b[0m\u001b[0mindex_up\u001b[0m\u001b[0;34m[\u001b[0m\u001b[0mj\u001b[0m\u001b[0;34m-\u001b[0m\u001b[0mi\u001b[0m\u001b[0;34m]\u001b[0m\u001b[0;34m]\u001b[0m\u001b[0;34m[\u001b[0m\u001b[0;34m:\u001b[0m\u001b[0;34m,\u001b[0m\u001b[0mindex_up\u001b[0m\u001b[0;34m[\u001b[0m\u001b[0mj\u001b[0m\u001b[0;34m-\u001b[0m\u001b[0mi\u001b[0m\u001b[0;34m]\u001b[0m\u001b[0;34m]\u001b[0m\u001b[0;34m\u001b[0m\u001b[0m\n",
      "\u001b[0;31mIndexError\u001b[0m: list index out of range"
     ]
    }
   ],
   "source": [
    "class_sets = map_back_classes(class_sets, index_up, max_level)"
   ]
  },
  {
   "cell_type": "code",
   "execution_count": null,
   "metadata": {},
   "outputs": [],
   "source": [
    "plt.figure(-1)\n",
    "p = plt.pcolormesh(test[0])\n",
    "plt.colorbar(p)\n",
    "\n",
    "for i in range(0,max_level):\n",
    "    plt.figure(i)\n",
    "    p = plt.pcolormesh(class_sets[i])\n",
    "    plt.colorbar(p)"
   ]
  },
  {
   "cell_type": "code",
   "execution_count": null,
   "metadata": {},
   "outputs": [],
   "source": []
  }
 ],
 "metadata": {
  "kernelspec": {
   "display_name": "Python 3",
   "language": "python",
   "name": "python3"
  },
  "language_info": {
   "codemirror_mode": {
    "name": "ipython",
    "version": 3
   },
   "file_extension": ".py",
   "mimetype": "text/x-python",
   "name": "python",
   "nbconvert_exporter": "python",
   "pygments_lexer": "ipython3",
   "version": "3.6.5"
  }
 },
 "nbformat": 4,
 "nbformat_minor": 2
}
