{
 "cells": [
  {
   "cell_type": "code",
   "execution_count": 1,
   "metadata": {},
   "outputs": [],
   "source": [
    "import numpy as np\n",
    "import pywt\n",
    "import scipy"
   ]
  },
  {
   "cell_type": "code",
   "execution_count": 2,
   "metadata": {},
   "outputs": [
    {
     "data": {
      "text/html": [
       "\n",
       "<style>\n",
       "    div#notebook-container    { width: 95%; }\n",
       "    div#menubar-container     { width: 65%; }\n",
       "    div#maintoolbar-container { width: 99%; }\n",
       "</style>\n"
      ],
      "text/plain": [
       "<IPython.core.display.HTML object>"
      ]
     },
     "metadata": {},
     "output_type": "display_data"
    }
   ],
   "source": [
    "#Change viewing options\n",
    "from IPython.core.display import display, HTML\n",
    "display(HTML(data=\"\"\"\n",
    "<style>\n",
    "    div#notebook-container    { width: 95%; }\n",
    "    div#menubar-container     { width: 65%; }\n",
    "    div#maintoolbar-container { width: 99%; }\n",
    "</style>\n",
    "\"\"\"))\n",
    "\n",
    "np.set_printoptions(edgeitems=30, linewidth=100000, \n",
    "    formatter=dict(float=lambda x: \"%.3g\" % x))"
   ]
  },
  {
   "cell_type": "code",
   "execution_count": 3,
   "metadata": {},
   "outputs": [],
   "source": [
    "#pywt.wavelist()\n",
    "#Information : http://wavelets.pybytes.com/"
   ]
  },
  {
   "cell_type": "code",
   "execution_count": 4,
   "metadata": {},
   "outputs": [],
   "source": [
    "data = np.array(range(10))"
   ]
  },
  {
   "cell_type": "code",
   "execution_count": 5,
   "metadata": {},
   "outputs": [
    {
     "data": {
      "text/plain": [
       "1"
      ]
     },
     "execution_count": 5,
     "metadata": {},
     "output_type": "execute_result"
    }
   ],
   "source": [
    "#Set the number of levels for DWT, as well as the wavelet\n",
    "data_len = data.size\n",
    "levels = 1\n",
    "wave = 'db2'\n",
    "\n",
    "#figure out max possible levels to loop over given size of data\n",
    "max_level = pywt.dwt_max_level(data_len = data_len, filter_len = pywt.Wavelet(wave).dec_len) \n",
    "max_level"
   ]
  },
  {
   "cell_type": "markdown",
   "metadata": {},
   "source": [
    "# The following constructs the filter matrix using symmetric padding for the wavelet"
   ]
  },
  {
   "cell_type": "code",
   "execution_count": 6,
   "metadata": {},
   "outputs": [],
   "source": [
    "def middle_match(data_len,wavelet):\n",
    "    \n",
    "    #Grab the filter and its length\n",
    "    w_fil = pywt.Wavelet(wavelet).dec_lo\n",
    "    w_fil = np.array(w_fil)\n",
    "    w_fil = np.flip(w_fil, axis=0)\n",
    "    w_len = pywt.Wavelet(wavelet).dec_len\n",
    "    \n",
    "    #Build the first row of the matrix\n",
    "    I_m = np.zeros(data_len)\n",
    "    I_m[:w_len] = w_fil\n",
    "    \n",
    "    #Make the shift matrix\n",
    "    row_number = int(np.ceil((data_len-w_len)/2))\n",
    "    if data_len%2 == 0:\n",
    "        for j in range(1, row_number+1):\n",
    "            row = np.zeros(data_len)\n",
    "            row[2*j:w_len + 2*j]= w_fil\n",
    "            I_m = np.concatenate((I_m,row), axis=0)\n",
    "    \n",
    "        I_m = np.reshape(I_m, (row_number+1,data_len))\n",
    "    else:\n",
    "        for j in range(1, row_number):\n",
    "            row = np.zeros(data_len)\n",
    "            row[2*j:w_len + 2*j]= w_fil\n",
    "            I_m = np.concatenate((I_m,row), axis=0)\n",
    "    \n",
    "        I_m = np.reshape(I_m, (row_number,data_len))        \n",
    "        \n",
    "        \n",
    "    return I_m"
   ]
  },
  {
   "cell_type": "code",
   "execution_count": 7,
   "metadata": {},
   "outputs": [],
   "source": [
    "def top_match(data_len, wavelet):\n",
    "    \n",
    "    #Grab the filter and its length\n",
    "    w_fil = pywt.Wavelet(wavelet).dec_lo\n",
    "    w_fil = np.array(w_fil)\n",
    "    w_fil = np.flip(w_fil, axis=0)\n",
    "    w_len = pywt.Wavelet(wavelet).dec_len\n",
    "    \n",
    "    #Build blank matrix\n",
    "    row_number = int(np.ceil((w_len)/2))\n",
    "    I_t = np.zeros((row_number-1,data_len))\n",
    "    \n",
    "    #Make the shift matrix\n",
    "    for j in range(1,row_number):\n",
    "        overflow = w_fil[:2*j]\n",
    "        overflow = np.flip(overflow, axis=0)\n",
    "        row_o = np.zeros(data_len)\n",
    "        row_o[:2*j] = overflow\n",
    "        \n",
    "        leftover = w_fil[2*j:]\n",
    "        row_l = np.zeros(data_len)\n",
    "        row_l[:leftover.size] = leftover\n",
    "        \n",
    "        row = row_o + row_l      \n",
    "        \n",
    "        I_t[j-1] = row\n",
    "    \n",
    "    return I_t"
   ]
  },
  {
   "cell_type": "code",
   "execution_count": 8,
   "metadata": {},
   "outputs": [],
   "source": [
    "def bot_match(data_len, wavelet):\n",
    "   \n",
    "    #Grab the filter and its length\n",
    "    w_fil = pywt.Wavelet(wavelet).dec_lo\n",
    "    w_fil = np.array(w_fil)\n",
    "    w_fil = np.flip(w_fil, axis=0)\n",
    "    w_len = pywt.Wavelet(wavelet).dec_len\n",
    "\n",
    "    row_number = int(np.ceil((w_len)/2))\n",
    "    if data_len%2 ==0:\n",
    "        I_b = np.zeros((row_number-1,data_len))\n",
    "        for j in range(1,row_number):\n",
    "            overflow = w_fil[-2*j:]\n",
    "            overflow = np.flip(overflow, axis=0)\n",
    "            row_o = np.zeros(data_len)\n",
    "            row_o[-2*j:] = overflow\n",
    "            \n",
    "            \n",
    "            leftover = w_fil[:-2*j]\n",
    "            row_l = np.zeros(data_len)\n",
    "            row_l[-leftover.size:] = leftover\n",
    "            \n",
    "            row = row_o + row_l\n",
    "            \n",
    "            I_b[j-1] = row         \n",
    "    else:\n",
    "        I_b = np.zeros((row_number,data_len))\n",
    "        for j in range(1,row_number+1):         \n",
    "            overflow = w_fil[-2*j+1:]\n",
    "            overflow = np.flip(overflow, axis=0)\n",
    "            row_o = np.zeros(data_len)\n",
    "            row_o[-2*j+1:] = overflow\n",
    "            \n",
    "            leftover = w_fil[:-2*j+1]\n",
    "            row_l = np.zeros(data_len)\n",
    "            row_l[-leftover.size:] = leftover\n",
    "\n",
    "            \n",
    "            row = row_o + row_l\n",
    "            \n",
    "            I_b[j-1] = row\n",
    "            \n",
    "    return I_b"
   ]
  },
  {
   "cell_type": "code",
   "execution_count": 9,
   "metadata": {},
   "outputs": [],
   "source": [
    "def filter_matrix(data_len, wavelet):\n",
    "    \n",
    "    I_m = middle_match(data_len, wavelet)\n",
    "    I_t = top_match(data_len, wavelet)\n",
    "    I_b = bot_match(data_len, wavelet)\n",
    "    \n",
    "    I = np.concatenate((I_t,I_m), axis=0)\n",
    "    I = np.concatenate((I,I_b), axis=0)\n",
    "    \n",
    "    return I"
   ]
  },
  {
   "cell_type": "code",
   "execution_count": 10,
   "metadata": {},
   "outputs": [],
   "source": [
    "I = filter_matrix(20,'haar')"
   ]
  },
  {
   "cell_type": "code",
   "execution_count": 11,
   "metadata": {},
   "outputs": [
    {
     "data": {
      "text/plain": [
       "array([[0.707, 0.707, 0, 0, 0, 0, 0, 0, 0, 0, 0, 0, 0, 0, 0, 0, 0, 0, 0, 0],\n",
       "       [0, 0, 0.707, 0.707, 0, 0, 0, 0, 0, 0, 0, 0, 0, 0, 0, 0, 0, 0, 0, 0],\n",
       "       [0, 0, 0, 0, 0.707, 0.707, 0, 0, 0, 0, 0, 0, 0, 0, 0, 0, 0, 0, 0, 0],\n",
       "       [0, 0, 0, 0, 0, 0, 0.707, 0.707, 0, 0, 0, 0, 0, 0, 0, 0, 0, 0, 0, 0],\n",
       "       [0, 0, 0, 0, 0, 0, 0, 0, 0.707, 0.707, 0, 0, 0, 0, 0, 0, 0, 0, 0, 0],\n",
       "       [0, 0, 0, 0, 0, 0, 0, 0, 0, 0, 0.707, 0.707, 0, 0, 0, 0, 0, 0, 0, 0],\n",
       "       [0, 0, 0, 0, 0, 0, 0, 0, 0, 0, 0, 0, 0.707, 0.707, 0, 0, 0, 0, 0, 0],\n",
       "       [0, 0, 0, 0, 0, 0, 0, 0, 0, 0, 0, 0, 0, 0, 0.707, 0.707, 0, 0, 0, 0],\n",
       "       [0, 0, 0, 0, 0, 0, 0, 0, 0, 0, 0, 0, 0, 0, 0, 0, 0.707, 0.707, 0, 0],\n",
       "       [0, 0, 0, 0, 0, 0, 0, 0, 0, 0, 0, 0, 0, 0, 0, 0, 0, 0, 0.707, 0.707]])"
      ]
     },
     "execution_count": 11,
     "metadata": {},
     "output_type": "execute_result"
    }
   ],
   "source": [
    "I"
   ]
  },
  {
   "cell_type": "code",
   "execution_count": 12,
   "metadata": {},
   "outputs": [
    {
     "data": {
      "text/plain": [
       "(10, 20)"
      ]
     },
     "execution_count": 12,
     "metadata": {},
     "output_type": "execute_result"
    }
   ],
   "source": [
    "I.shape"
   ]
  },
  {
   "cell_type": "markdown",
   "metadata": {},
   "source": [
    "# The following discovers which class each point should belong to"
   ]
  },
  {
   "cell_type": "code",
   "execution_count": 13,
   "metadata": {},
   "outputs": [
    {
     "data": {
      "text/plain": [
       "array([[0.707, 0.707, 0, 0, 0, 0, 0, 0, 0, 0, 0, 0, 0, 0, 0, 0, 0, 0, 0, 0],\n",
       "       [0, 0, 0.707, 0.707, 0, 0, 0, 0, 0, 0, 0, 0, 0, 0, 0, 0, 0, 0, 0, 0],\n",
       "       [0, 0, 0, 0, 0.707, 0.707, 0, 0, 0, 0, 0, 0, 0, 0, 0, 0, 0, 0, 0, 0],\n",
       "       [0, 0, 0, 0, 0, 0, 0.707, 0.707, 0, 0, 0, 0, 0, 0, 0, 0, 0, 0, 0, 0],\n",
       "       [0, 0, 0, 0, 0, 0, 0, 0, 0.707, 0.707, 0, 0, 0, 0, 0, 0, 0, 0, 0, 0],\n",
       "       [0, 0, 0, 0, 0, 0, 0, 0, 0, 0, 0.707, 0.707, 0, 0, 0, 0, 0, 0, 0, 0],\n",
       "       [0, 0, 0, 0, 0, 0, 0, 0, 0, 0, 0, 0, 0.707, 0.707, 0, 0, 0, 0, 0, 0],\n",
       "       [0, 0, 0, 0, 0, 0, 0, 0, 0, 0, 0, 0, 0, 0, 0.707, 0.707, 0, 0, 0, 0],\n",
       "       [0, 0, 0, 0, 0, 0, 0, 0, 0, 0, 0, 0, 0, 0, 0, 0, 0.707, 0.707, 0, 0],\n",
       "       [0, 0, 0, 0, 0, 0, 0, 0, 0, 0, 0, 0, 0, 0, 0, 0, 0, 0, 0.707, 0.707]])"
      ]
     },
     "execution_count": 13,
     "metadata": {},
     "output_type": "execute_result"
    }
   ],
   "source": [
    "I2 = np.abs(I)\n",
    "I2"
   ]
  },
  {
   "cell_type": "code",
   "execution_count": 14,
   "metadata": {},
   "outputs": [],
   "source": [
    "classes_index = np.argmax(I2,axis=0)"
   ]
  },
  {
   "cell_type": "code",
   "execution_count": 15,
   "metadata": {},
   "outputs": [
    {
     "data": {
      "text/plain": [
       "array([0, 0, 1, 1, 2, 2, 3, 3, 4, 4, 5, 5, 6, 6, 7, 7, 8, 8, 9, 9])"
      ]
     },
     "execution_count": 15,
     "metadata": {},
     "output_type": "execute_result"
    }
   ],
   "source": [
    "classes_index"
   ]
  },
  {
   "cell_type": "code",
   "execution_count": 16,
   "metadata": {},
   "outputs": [
    {
     "data": {
      "text/plain": [
       "array([0, 0, 0, 0.707, 0, 0, 0, 0, 0, 0])"
      ]
     },
     "execution_count": 16,
     "metadata": {},
     "output_type": "execute_result"
    }
   ],
   "source": [
    "I2[:,6]"
   ]
  },
  {
   "cell_type": "code",
   "execution_count": 33,
   "metadata": {},
   "outputs": [],
   "source": [
    "#Function used to discover classes at one stage higher resolution\n",
    "def map_back(I):\n",
    "    I = np.abs(I)\n",
    "    classes_index = np.argmax(I,axis=0)\n",
    "    \n",
    "    return classes_index"
   ]
  },
  {
   "cell_type": "markdown",
   "metadata": {},
   "source": [
    "# Map back multiple levels"
   ]
  },
  {
   "cell_type": "code",
   "execution_count": 18,
   "metadata": {},
   "outputs": [],
   "source": [
    "data = np.array(range(100))"
   ]
  },
  {
   "cell_type": "code",
   "execution_count": 19,
   "metadata": {},
   "outputs": [
    {
     "data": {
      "text/plain": [
       "5"
      ]
     },
     "execution_count": 19,
     "metadata": {},
     "output_type": "execute_result"
    }
   ],
   "source": [
    "#Set the number of levels for DWT, as well as the wavelet\n",
    "data_len = data.size\n",
    "levels = 2\n",
    "wave = 'db2'\n",
    "\n",
    "#figure out max possible levels to loop over given size of data\n",
    "max_level = pywt.dwt_max_level(data_len = data_len, filter_len = pywt.Wavelet(wave).dec_len) \n",
    "max_level"
   ]
  },
  {
   "cell_type": "code",
   "execution_count": 22,
   "metadata": {},
   "outputs": [],
   "source": [
    "w = pywt.wavedec(data,level = levels, wavelet=wave)"
   ]
  },
  {
   "cell_type": "code",
   "execution_count": 23,
   "metadata": {},
   "outputs": [
    {
     "data": {
      "text/plain": [
       "[array([0.692, 0.908, 7.8, 15.8, 23.8, 31.8, 39.8, 47.8, 55.8, 63.8, 71.8, 79.8, 87.8, 95.8, 104, 112, 120, 128, 136, 144, 152, 160, 168, 176, 184, 192, 198]),\n",
       " array([-0.333, -0.296, -5.55e-17, -1.78e-15, 1.33e-15, 3.11e-15, 0, 0, 8.88e-16, 3.55e-15, 6.22e-15, 7.11e-15, -7.11e-15, -1.78e-15, -8.88e-15, -3.55e-15, -1.07e-14, 7.11e-15, -5.33e-15, 5.33e-15, 1.24e-14, 0, 5.33e-15, -3.55e-15, 1.42e-14, 1.42, 0.308]),\n",
       " array([-0.612, -2.78e-17, 1.11e-16, 4.44e-16, 0, 1.33e-15, 8.88e-16, 4.44e-16, 8.88e-16, 8.88e-16, 1.78e-15, 1.78e-15, 2.66e-15, 8.88e-16, 8.88e-16, 1.78e-15, 0, 2.66e-15, 8.88e-16, 0, 6.22e-15, 0, 2.66e-15, 1.78e-15, 2.66e-15, -1.78e-15, 4.44e-15, 0, 8.88e-16, 0, 2.66e-15, -3.55e-15, 1.78e-15, 5.33e-15, 5.33e-15, 1.78e-15, 0, 7.11e-15, 0, 5.33e-15, 7.11e-15, -7.11e-15, 0, 5.33e-15, 3.55e-15, -3.55e-15, 3.55e-15, -1.78e-15, 3.55e-15, 1.07e-14, 0.612])]"
      ]
     },
     "execution_count": 23,
     "metadata": {},
     "output_type": "execute_result"
    }
   ],
   "source": [
    "w"
   ]
  },
  {
   "cell_type": "code",
   "execution_count": 39,
   "metadata": {},
   "outputs": [
    {
     "data": {
      "text/plain": [
       "(51,)"
      ]
     },
     "execution_count": 39,
     "metadata": {},
     "output_type": "execute_result"
    }
   ],
   "source": [
    "w[2].shape"
   ]
  },
  {
   "cell_type": "code",
   "execution_count": 25,
   "metadata": {},
   "outputs": [
    {
     "data": {
      "text/plain": [
       "(27,)"
      ]
     },
     "execution_count": 25,
     "metadata": {},
     "output_type": "execute_result"
    }
   ],
   "source": [
    "w[0].shape"
   ]
  },
  {
   "cell_type": "code",
   "execution_count": 44,
   "metadata": {},
   "outputs": [
    {
     "data": {
      "text/plain": [
       "51"
      ]
     },
     "execution_count": 44,
     "metadata": {},
     "output_type": "execute_result"
    }
   ],
   "source": [
    "pywt.dwt_coeff_len(data.size, pywt.Wavelet(wave).dec_len, mode='symmetric')"
   ]
  },
  {
   "cell_type": "code",
   "execution_count": 42,
   "metadata": {},
   "outputs": [
    {
     "data": {
      "text/plain": [
       "27"
      ]
     },
     "execution_count": 42,
     "metadata": {},
     "output_type": "execute_result"
    }
   ],
   "source": [
    "pywt.dwt_coeff_len(51, pywt.Wavelet(wave).dec_len, mode='symmetric')"
   ]
  },
  {
   "cell_type": "code",
   "execution_count": 45,
   "metadata": {},
   "outputs": [],
   "source": [
    "def dwt_length(data, wavelet):\n",
    "    \n",
    "    dwt_lengths = [data.size]\n",
    "    max_level = pywt.dwt_max_level(data_len = data.size, filter_len = pywt.Wavelet(wave).dec_len)\n",
    "    \n",
    "    for i in range(max_level):\n",
    "        l = pywt.dwt_coeff_len(dwt_lengths[i], pywt.Wavelet(wave).dec_len, mode='symmetric')\n",
    "        dwt_lengths.append(l)\n",
    "    \n",
    "    return dwt_lengths"
   ]
  },
  {
   "cell_type": "code",
   "execution_count": 48,
   "metadata": {},
   "outputs": [
    {
     "data": {
      "text/plain": [
       "[100, 51, 27, 15, 9, 6]"
      ]
     },
     "execution_count": 48,
     "metadata": {},
     "output_type": "execute_result"
    }
   ],
   "source": [
    "dwt_lengths = dwt_length(data, wave)\n",
    "dwt_lengths"
   ]
  },
  {
   "cell_type": "code",
   "execution_count": 64,
   "metadata": {},
   "outputs": [
    {
     "data": {
      "text/plain": [
       "array([[1.06, 0.354, 0, 0, 0, 0, 0, 0, 0, 0, 0, 0, 0, 0, 0, 0, 0, 0, 0, 0, 0, 0, 0, 0, 0, 0, 0],\n",
       "       [0.483, 0.837, 0.224, -0.129, 0, 0, 0, 0, 0, 0, 0, 0, 0, 0, 0, 0, 0, 0, 0, 0, 0, 0, 0, 0, 0, 0, 0],\n",
       "       [0, 0, 0.483, 0.837, 0.224, -0.129, 0, 0, 0, 0, 0, 0, 0, 0, 0, 0, 0, 0, 0, 0, 0, 0, 0, 0, 0, 0, 0],\n",
       "       [0, 0, 0, 0, 0.483, 0.837, 0.224, -0.129, 0, 0, 0, 0, 0, 0, 0, 0, 0, 0, 0, 0, 0, 0, 0, 0, 0, 0, 0],\n",
       "       [0, 0, 0, 0, 0, 0, 0.483, 0.837, 0.224, -0.129, 0, 0, 0, 0, 0, 0, 0, 0, 0, 0, 0, 0, 0, 0, 0, 0, 0],\n",
       "       [0, 0, 0, 0, 0, 0, 0, 0, 0.483, 0.837, 0.224, -0.129, 0, 0, 0, 0, 0, 0, 0, 0, 0, 0, 0, 0, 0, 0, 0],\n",
       "       [0, 0, 0, 0, 0, 0, 0, 0, 0, 0, 0.483, 0.837, 0.224, -0.129, 0, 0, 0, 0, 0, 0, 0, 0, 0, 0, 0, 0, 0],\n",
       "       [0, 0, 0, 0, 0, 0, 0, 0, 0, 0, 0, 0, 0.483, 0.837, 0.224, -0.129, 0, 0, 0, 0, 0, 0, 0, 0, 0, 0, 0],\n",
       "       [0, 0, 0, 0, 0, 0, 0, 0, 0, 0, 0, 0, 0, 0, 0.483, 0.837, 0.224, -0.129, 0, 0, 0, 0, 0, 0, 0, 0, 0],\n",
       "       [0, 0, 0, 0, 0, 0, 0, 0, 0, 0, 0, 0, 0, 0, 0, 0, 0.483, 0.837, 0.224, -0.129, 0, 0, 0, 0, 0, 0, 0],\n",
       "       [0, 0, 0, 0, 0, 0, 0, 0, 0, 0, 0, 0, 0, 0, 0, 0, 0, 0, 0.483, 0.837, 0.224, -0.129, 0, 0, 0, 0, 0],\n",
       "       [0, 0, 0, 0, 0, 0, 0, 0, 0, 0, 0, 0, 0, 0, 0, 0, 0, 0, 0, 0, 0.483, 0.837, 0.224, -0.129, 0, 0, 0],\n",
       "       [0, 0, 0, 0, 0, 0, 0, 0, 0, 0, 0, 0, 0, 0, 0, 0, 0, 0, 0, 0, 0, 0, 0.483, 0.837, 0.224, -0.129, 0],\n",
       "       [0, 0, 0, 0, 0, 0, 0, 0, 0, 0, 0, 0, 0, 0, 0, 0, 0, 0, 0, 0, 0, 0, 0, 0, 0.483, 0.837, 0.0947],\n",
       "       [0, 0, 0, 0, 0, 0, 0, 0, 0, 0, 0, 0, 0, 0, 0, 0, 0, 0, 0, 0, 0, 0, 0, 0, -0.129, 0.224, 1.32]])"
      ]
     },
     "execution_count": 64,
     "metadata": {},
     "output_type": "execute_result"
    }
   ],
   "source": [
    "I = filter_matrix(dwt_lengths[2],'db2')\n",
    "I"
   ]
  },
  {
   "cell_type": "code",
   "execution_count": 65,
   "metadata": {},
   "outputs": [
    {
     "data": {
      "text/plain": [
       "array([ 0,  1,  2,  2,  3,  3,  4,  4,  5,  5,  6,  6,  7,  7,  8,  8,  9,  9, 10, 10, 11, 11, 12, 12, 13, 13, 14])"
      ]
     },
     "execution_count": 65,
     "metadata": {},
     "output_type": "execute_result"
    }
   ],
   "source": [
    "classes_index = map_back(I)\n",
    "classes_index"
   ]
  },
  {
   "cell_type": "code",
   "execution_count": 66,
   "metadata": {},
   "outputs": [
    {
     "data": {
      "text/plain": [
       "(27,)"
      ]
     },
     "execution_count": 66,
     "metadata": {},
     "output_type": "execute_result"
    }
   ],
   "source": [
    "classes_index.shape"
   ]
  },
  {
   "cell_type": "code",
   "execution_count": 63,
   "metadata": {},
   "outputs": [
    {
     "data": {
      "text/plain": [
       "(15,)"
      ]
     },
     "execution_count": 63,
     "metadata": {},
     "output_type": "execute_result"
    }
   ],
   "source": [
    "ex = np.array([0,0,0,0,4,5,2,2,2,1,1,1,1,1,3])\n",
    "ex.shape"
   ]
  },
  {
   "cell_type": "code",
   "execution_count": 69,
   "metadata": {},
   "outputs": [
    {
     "data": {
      "text/plain": [
       "array([0, 0, 0, 0, 0, 0, 4, 4, 5, 5, 2, 2, 2, 2, 2, 2, 1, 1, 1, 1, 1, 1, 1, 1, 1, 1, 3])"
      ]
     },
     "execution_count": 69,
     "metadata": {},
     "output_type": "execute_result"
    }
   ],
   "source": [
    "ex2 = ex[classes_index]\n",
    "ex2"
   ]
  },
  {
   "cell_type": "code",
   "execution_count": null,
   "metadata": {},
   "outputs": [],
   "source": []
  }
 ],
 "metadata": {
  "kernelspec": {
   "display_name": "Python 3",
   "language": "python",
   "name": "python3"
  },
  "language_info": {
   "codemirror_mode": {
    "name": "ipython",
    "version": 3
   },
   "file_extension": ".py",
   "mimetype": "text/x-python",
   "name": "python",
   "nbconvert_exporter": "python",
   "pygments_lexer": "ipython3",
   "version": "3.6.5"
  }
 },
 "nbformat": 4,
 "nbformat_minor": 2
}
