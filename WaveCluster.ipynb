{
 "cells": [
  {
   "cell_type": "code",
   "execution_count": 360,
   "metadata": {},
   "outputs": [],
   "source": [
    "import numpy as np\n",
    "from sklearn import metrics\n",
    "from sklearn.datasets.samples_generator import make_blobs\n",
    "from sklearn.preprocessing import StandardScaler\n",
    "import matplotlib.pyplot as plt\n",
    "import math\n",
    "import pywt\n",
    "import scipy"
   ]
  },
  {
   "cell_type": "markdown",
   "metadata": {},
   "source": [
    "# Create some random data to be tested for WaveCluster"
   ]
  },
  {
   "cell_type": "code",
   "execution_count": 2,
   "metadata": {},
   "outputs": [],
   "source": [
    "#Generate random points\n",
    "centers = [[1, 1], [-1, -1], [1, -1]]\n",
    "X, y= make_blobs(n_samples=750, centers=centers, cluster_std=0.4,\n",
    "                            random_state=0)\n",
    "\n",
    "X = StandardScaler().fit_transform(X)"
   ]
  },
  {
   "cell_type": "code",
   "execution_count": 300,
   "metadata": {},
   "outputs": [
    {
     "data": {
      "text/plain": [
       "<matplotlib.collections.PathCollection at 0x7f5a0a70a8d0>"
      ]
     },
     "execution_count": 300,
     "metadata": {},
     "output_type": "execute_result"
    },
    {
     "data": {
      "image/png": "[encoded data removed]",
      "text/plain": [
       "<Figure size 432x288 with 1 Axes>"
      ]
     },
     "metadata": {},
     "output_type": "display_data"
    }
   ],
   "source": [
    "plt.scatter(X[:,0],X[:,1])"
   ]
  },
  {
   "cell_type": "markdown",
   "metadata": {},
   "source": [
    "# Segment the space into cubes and bin the data"
   ]
  },
  {
   "cell_type": "code",
   "execution_count": 305,
   "metadata": {},
   "outputs": [],
   "source": [
    "#Compute and/or set some variables\n",
    "layers = 4\n",
    "n_bins = 2**layers\n",
    "d = X.shape[1] #number of dimensions"
   ]
  },
  {
   "cell_type": "code",
   "execution_count": 306,
   "metadata": {},
   "outputs": [
    {
     "data": {
      "text/plain": [
       "array([[ 0.,  0.,  1.,  2.,  1.,  3.,  0.,  0.,  0.,  0.,  0.,  0.,  0.,\n",
       "         0.,  0.,  0.],\n",
       "       [ 0.,  2.,  3.,  6.,  4.,  3.,  1.,  1.,  0.,  0.,  0.,  0.,  0.,\n",
       "         0.,  0.,  0.],\n",
       "       [ 1.,  0.,  5.,  6., 12., 10.,  9.,  4.,  0.,  0.,  0.,  0.,  0.,\n",
       "         0.,  0.,  0.],\n",
       "       [ 1.,  3.,  6., 18., 19., 13.,  7.,  1.,  2.,  0.,  0.,  0.,  0.,\n",
       "         0.,  0.,  0.],\n",
       "       [ 0.,  3.,  6.,  6., 18., 14.,  9.,  5.,  2.,  0.,  0.,  0.,  0.,\n",
       "         0.,  0.,  0.],\n",
       "       [ 1.,  1.,  1.,  9., 12.,  4.,  4.,  1.,  0.,  0.,  0.,  0.,  0.,\n",
       "         0.,  0.,  0.],\n",
       "       [ 0.,  0.,  1.,  0.,  5.,  1.,  1.,  0.,  0.,  0.,  0.,  0.,  0.,\n",
       "         0.,  0.,  0.],\n",
       "       [ 0.,  1.,  2.,  0.,  1.,  0.,  1.,  0.,  0.,  0.,  1.,  0.,  1.,\n",
       "         2.,  0.,  0.],\n",
       "       [ 0.,  0.,  0.,  2.,  1.,  2.,  2.,  0.,  1.,  0.,  0.,  3.,  6.,\n",
       "         2.,  0.,  2.],\n",
       "       [ 0.,  1.,  5., 10.,  4.,  3.,  3.,  3.,  1.,  2.,  3., 12.,  7.,\n",
       "         9.,  3.,  1.],\n",
       "       [ 0.,  3.,  6., 13., 15.,  8.,  6.,  2.,  2.,  3., 11., 20., 14.,\n",
       "         7.,  4.,  4.],\n",
       "       [ 0.,  3.,  8., 12., 14., 18., 12.,  3.,  1.,  2.,  6., 10., 18.,\n",
       "         9.,  4.,  3.],\n",
       "       [ 1.,  1.,  2., 10., 15., 20.,  5.,  0.,  3.,  3.,  4.,  9., 21.,\n",
       "         8.,  3.,  1.],\n",
       "       [ 0.,  0.,  3.,  4.,  7.,  8.,  2.,  0.,  0.,  1.,  1.,  2.,  4.,\n",
       "         4.,  3.,  1.],\n",
       "       [ 0.,  0.,  0.,  0.,  4.,  0.,  0.,  0.,  0.,  0.,  4.,  0.,  2.,\n",
       "         2.,  2.,  0.],\n",
       "       [ 0.,  0.,  0.,  0.,  2.,  0.,  0.,  1.,  0.,  0.,  0.,  0.,  1.,\n",
       "         0.,  0.,  0.]])"
      ]
     },
     "execution_count": 306,
     "metadata": {},
     "output_type": "execute_result"
    }
   ],
   "source": [
    "H = np.histogramdd(X, bins=n_bins)\n",
    "data_quant = H[0]\n",
    "data_quant"
   ]
  },
  {
   "cell_type": "code",
   "execution_count": 307,
   "metadata": {},
   "outputs": [
    {
     "data": {
      "text/plain": [
       "21.0"
      ]
     },
     "execution_count": 307,
     "metadata": {},
     "output_type": "execute_result"
    }
   ],
   "source": [
    "data_quant.max()"
   ]
  },
  {
   "cell_type": "code",
   "execution_count": 308,
   "metadata": {},
   "outputs": [
    {
     "data": {
      "text/plain": [
       "<matplotlib.image.AxesImage at 0x7f5a0a6b0d30>"
      ]
     },
     "execution_count": 308,
     "metadata": {},
     "output_type": "execute_result"
    },
    {
     "data": {
      "image/png": "[encoded data removed]",
      "text/plain": [
       "<Figure size 432x288 with 1 Axes>"
      ]
     },
     "metadata": {},
     "output_type": "display_data"
    }
   ],
   "source": [
    "plt.imshow(data_quant)"
   ]
  },
  {
   "cell_type": "markdown",
   "metadata": {},
   "source": [
    "# Compute the DWT"
   ]
  },
  {
   "cell_type": "code",
   "execution_count": 352,
   "metadata": {},
   "outputs": [],
   "source": [
    "#Perform dwt on quantized data.  Here, we have lots of options fo rchoice of wavelet\n",
    "wave = 'db1'\n",
    "wp = pywt.wavedecn(data=data_quant, wavelet=wave)\n",
    "#wp = pywt.dwtn(data=data_quant, wavelet=wave)"
   ]
  },
  {
   "cell_type": "code",
   "execution_count": 353,
   "metadata": {},
   "outputs": [
    {
     "data": {
      "text/plain": [
       "[array([[46.875]]),\n",
       " {'ad': array([[14.75]]), 'da': array([[-14.75]]), 'dd': array([[15.375]])},\n",
       " {'ad': array([[-9.875,  0.25 ],\n",
       "         [-9.5  , -5.125]]), 'da': array([[ 4.375, -0.5  ],\n",
       "         [ 9.25 , 11.375]]), 'dd': array([[1.375, 0.25 ],\n",
       "         [1.25 , 1.125]])},\n",
       " {'ad': array([[-10.  ,  10.5 ,   0.5 ,   0.  ],\n",
       "         [ -4.75,   8.5 ,   0.25,   0.75],\n",
       "         [-12.25,   8.5 , -13.25,  12.75],\n",
       "         [ -4.25,  12.  ,  -3.25,   8.  ]]),\n",
       "  'da': array([[ -6.5 , -15.5 ,  -0.5 ,   0.  ],\n",
       "         [  5.75,  14.5 ,   0.25,  -0.75],\n",
       "         [ -6.75, -15.  ,  -8.25,  -8.25],\n",
       "         [  5.25,  12.5 ,   4.75,   9.5 ]]),\n",
       "  'dd': array([[ 5.  , -6.  , -0.5 ,  0.  ],\n",
       "         [-3.75,  6.  ,  0.75, -0.75],\n",
       "         [ 4.25, -7.5 ,  6.25, -3.75],\n",
       "         [-4.25,  9.5 , -1.25,  6.5 ]])},\n",
       " {'ad': array([[-1. , -2. , -0.5,  0. ,  0. ,  0. ,  0. ,  0. ],\n",
       "         [-0.5, -6.5,  4. ,  5.5,  1. ,  0. ,  0. ,  0. ],\n",
       "         [-1.5, -4. ,  6. ,  3.5,  1. ,  0. ,  0. ,  0. ],\n",
       "         [-0.5,  1.5,  2.5,  1. ,  0. ,  0.5, -0.5,  0. ],\n",
       "         [-0.5, -3.5,  0. ,  1. ,  0. , -6. ,  1. ,  0. ],\n",
       "         [-3. , -5.5,  1.5,  6.5, -1. , -6.5,  8. ,  0.5],\n",
       "         [ 0. , -4.5, -3. ,  3.5, -0.5, -3. ,  6.5,  2. ],\n",
       "         [ 0. ,  0. ,  3. , -0.5,  0. ,  2. ,  0.5,  1. ]]),\n",
       "  'da': array([[-1. , -3. , -1.5, -1. ,  0. ,  0. ,  0. ,  0. ],\n",
       "         [-1.5, -6.5, -5. ,  2.5, -1. ,  0. ,  0. ,  0. ],\n",
       "         [ 0.5,  1. ,  8. ,  4.5,  1. ,  0. ,  0. ,  0. ],\n",
       "         [-0.5, -0.5,  2.5,  0. ,  0. , -0.5, -1.5,  0. ],\n",
       "         [-0.5, -6.5, -2. , -2. , -1. , -6. , -4. , -1. ],\n",
       "         [ 0. , -0.5, -4.5, -3.5,  1. ,  7.5, -3. ,  0.5],\n",
       "         [ 1. ,  2.5, 10. ,  1.5,  2.5,  5. , 10.5,  0. ],\n",
       "         [ 0. ,  0. ,  1. , -0.5,  0. ,  2. ,  1.5,  1. ]]),\n",
       "  'dd': array([[ 1. ,  1. , -1.5,  0. ,  0. ,  0. ,  0. ,  0. ],\n",
       "         [ 1.5,  5.5, -2. , -0.5, -1. ,  0. ,  0. ,  0. ],\n",
       "         [-1.5,  4. , -2. ,  0.5,  1. ,  0. ,  0. ,  0. ],\n",
       "         [ 0.5, -0.5,  1.5,  0. ,  0. , -0.5,  0.5,  0. ],\n",
       "         [ 0.5,  1.5, -1. ,  1. ,  1. ,  3. ,  3. , -2. ],\n",
       "         [ 0. , -1.5,  5.5, -2.5,  0. , -2.5, -1. , -0.5],\n",
       "         [ 0. , -3.5, -2. ,  1.5,  0.5, -2. ,  6.5,  0. ],\n",
       "         [ 0. ,  0. ,  1. ,  0.5,  0. ,  2. , -0.5,  1. ]])}]"
      ]
     },
     "execution_count": 353,
     "metadata": {},
     "output_type": "execute_result"
    }
   ],
   "source": [
    "wp"
   ]
  },
  {
   "cell_type": "code",
   "execution_count": 354,
   "metadata": {},
   "outputs": [
    {
     "data": {
      "text/plain": [
       "array([[46.875]])"
      ]
     },
     "execution_count": 354,
     "metadata": {},
     "output_type": "execute_result"
    }
   ],
   "source": [
    "wp[0]"
   ]
  },
  {
   "cell_type": "markdown",
   "metadata": {},
   "source": [
    "# Threshold the results of DWT"
   ]
  },
  {
   "cell_type": "code",
   "execution_count": 355,
   "metadata": {},
   "outputs": [],
   "source": [
    "#Pick a threshold value\n",
    "epsilon = 2"
   ]
  },
  {
   "cell_type": "code",
   "execution_count": 356,
   "metadata": {},
   "outputs": [],
   "source": [
    "#Threshold the DWT\n",
    "if abs(wp[0])<epsilon:\n",
    "    wp[0] = 0\n",
    "else:\n",
    "    wp[0] = 1\n",
    "\n",
    "keys = ['ad', 'da', 'dd']\n",
    "for i in range(1,layers+1):\n",
    "    for k in keys:\n",
    "        wp[i][k][abs(wp[i][k])<epsilon] = 0\n",
    "        wp[i][k][abs(wp[i][k])>=epsilon] = 1"
   ]
  },
  {
   "cell_type": "code",
   "execution_count": 357,
   "metadata": {},
   "outputs": [
    {
     "data": {
      "text/plain": [
       "[1,\n",
       " {'ad': array([[1.]]), 'da': array([[1.]]), 'dd': array([[1.]])},\n",
       " {'ad': array([[1., 0.],\n",
       "         [1., 1.]]), 'da': array([[1., 0.],\n",
       "         [1., 1.]]), 'dd': array([[0., 0.],\n",
       "         [0., 0.]])},\n",
       " {'ad': array([[1., 1., 0., 0.],\n",
       "         [1., 1., 0., 0.],\n",
       "         [1., 1., 1., 1.],\n",
       "         [1., 1., 1., 1.]]), 'da': array([[1., 1., 0., 0.],\n",
       "         [1., 1., 0., 0.],\n",
       "         [1., 1., 1., 1.],\n",
       "         [1., 1., 1., 1.]]), 'dd': array([[1., 1., 0., 0.],\n",
       "         [1., 1., 0., 0.],\n",
       "         [1., 1., 1., 1.],\n",
       "         [1., 1., 0., 1.]])},\n",
       " {'ad': array([[0., 1., 0., 0., 0., 0., 0., 0.],\n",
       "         [0., 1., 1., 1., 0., 0., 0., 0.],\n",
       "         [0., 1., 1., 1., 0., 0., 0., 0.],\n",
       "         [0., 0., 1., 0., 0., 0., 0., 0.],\n",
       "         [0., 1., 0., 0., 0., 1., 0., 0.],\n",
       "         [1., 1., 0., 1., 0., 1., 1., 0.],\n",
       "         [0., 1., 1., 1., 0., 1., 1., 1.],\n",
       "         [0., 0., 1., 0., 0., 1., 0., 0.]]),\n",
       "  'da': array([[0., 1., 0., 0., 0., 0., 0., 0.],\n",
       "         [0., 1., 1., 1., 0., 0., 0., 0.],\n",
       "         [0., 0., 1., 1., 0., 0., 0., 0.],\n",
       "         [0., 0., 1., 0., 0., 0., 0., 0.],\n",
       "         [0., 1., 1., 1., 0., 1., 1., 0.],\n",
       "         [0., 0., 1., 1., 0., 1., 1., 0.],\n",
       "         [0., 1., 1., 0., 1., 1., 1., 0.],\n",
       "         [0., 0., 0., 0., 0., 1., 0., 0.]]),\n",
       "  'dd': array([[0., 0., 0., 0., 0., 0., 0., 0.],\n",
       "         [0., 1., 0., 0., 0., 0., 0., 0.],\n",
       "         [0., 1., 1., 0., 0., 0., 0., 0.],\n",
       "         [0., 0., 0., 0., 0., 0., 0., 0.],\n",
       "         [0., 0., 0., 0., 0., 1., 1., 1.],\n",
       "         [0., 0., 1., 1., 0., 1., 0., 0.],\n",
       "         [0., 1., 1., 0., 0., 1., 1., 0.],\n",
       "         [0., 0., 0., 0., 0., 1., 0., 0.]])}]"
      ]
     },
     "execution_count": 357,
     "metadata": {},
     "output_type": "execute_result"
    }
   ],
   "source": [
    "wp"
   ]
  },
  {
   "cell_type": "markdown",
   "metadata": {},
   "source": [
    "# Find connected components"
   ]
  },
  {
   "cell_type": "code",
   "execution_count": 358,
   "metadata": {},
   "outputs": [
    {
     "data": {
      "text/plain": [
       "array([[0., 0., 0., 0., 0., 0., 0., 0.],\n",
       "       [0., 1., 0., 0., 0., 0., 0., 0.],\n",
       "       [0., 1., 1., 0., 0., 0., 0., 0.],\n",
       "       [0., 0., 0., 0., 0., 0., 0., 0.],\n",
       "       [0., 0., 0., 0., 0., 1., 1., 1.],\n",
       "       [0., 0., 1., 1., 0., 1., 0., 0.],\n",
       "       [0., 1., 1., 0., 0., 1., 1., 0.],\n",
       "       [0., 0., 0., 0., 0., 1., 0., 0.]])"
      ]
     },
     "execution_count": 358,
     "metadata": {},
     "output_type": "execute_result"
    }
   ],
   "source": [
    "ex = wp[4]['dd']\n",
    "ex"
   ]
  },
  {
   "cell_type": "code",
   "execution_count": 363,
   "metadata": {},
   "outputs": [
    {
     "data": {
      "text/plain": [
       "(2, array([0, 1, 1, 1, 1, 1, 1, 1], dtype=int32))"
      ]
     },
     "execution_count": 363,
     "metadata": {},
     "output_type": "execute_result"
    }
   ],
   "source": [
    "scipy.sparse.csgraph.connected_components(ex, directed = False, connection = 'strong')"
   ]
  },
  {
   "cell_type": "markdown",
   "metadata": {},
   "source": [
    "# Trash"
   ]
  },
  {
   "cell_type": "code",
   "execution_count": 231,
   "metadata": {},
   "outputs": [],
   "source": [
    "#Create the bins\n",
    "#bin_list = []\n",
    "#for i in list(range(d)):\n",
    "#    dim_min = math.floor(min(X[:,i]))\n",
    "#    dim_max = math.ceil(max(X[:,i]))\n",
    "#    dim_bin = np.linspace(start=dim_min, stop=dim_max, num=n_bins)\n",
    "#    bin_list.append(dim_bin)\n",
    "#    \n",
    "#bin_list = np.stack(bin_list, axis=0)"
   ]
  },
  {
   "cell_type": "code",
   "execution_count": 232,
   "metadata": {},
   "outputs": [],
   "source": [
    "#Quantize data into the bins\n",
    "#data_quant = []\n",
    "#index_key = []\n",
    "#for b in list(range(d)):\n",
    "#    inds = np.digitize(X[:,b], bin_list[b])\n",
    "#    index_key.append(inds)\n",
    "#    data_quant.append(np.bincount(inds, minlength = n_bins))\n",
    "#\n",
    "#index_key = np.stack(index_key,axis=0)\n",
    "#data_quant = np.stack(data_quant, axis=0)"
   ]
  }
 ],
 "metadata": {
  "kernelspec": {
   "display_name": "Python 3",
   "language": "python",
   "name": "python3"
  },
  "language_info": {
   "codemirror_mode": {
    "name": "ipython",
    "version": 3
   },
   "file_extension": ".py",
   "mimetype": "text/x-python",
   "name": "python",
   "nbconvert_exporter": "python",
   "pygments_lexer": "ipython3",
   "version": "3.6.5"
  }
 },
 "nbformat": 4,
 "nbformat_minor": 2
}
