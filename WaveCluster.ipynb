{
 "cells": [
  {
   "cell_type": "code",
   "execution_count": 36,
   "metadata": {},
   "outputs": [],
   "source": [
    "import numpy as np\n",
    "from sklearn import metrics\n",
    "from sklearn.datasets.samples_generator import make_blobs\n",
    "from sklearn.preprocessing import StandardScaler\n",
    "import matplotlib.pyplot as plt\n",
    "import math\n",
    "import pywt\n",
    "import scipy\n",
    "from scipy import ndimage"
   ]
  },
  {
   "cell_type": "markdown",
   "metadata": {},
   "source": [
    "# Create some random data to be tested for WaveCluster"
   ]
  },
  {
   "cell_type": "code",
   "execution_count": 173,
   "metadata": {},
   "outputs": [],
   "source": [
    "#Generate random points\n",
    "#centers = [[1, 1], [-1, -1], [1, -1]]\n",
    "X, y= make_blobs(n_samples=1000, n_features = 1, cluster_std=0.4, random_state=0)\n",
    "\n",
    "X = StandardScaler().fit_transform(X)"
   ]
  },
  {
   "cell_type": "code",
   "execution_count": 175,
   "metadata": {},
   "outputs": [],
   "source": [
    "#plt.scatter(X[:,0],X[:,1])"
   ]
  },
  {
   "cell_type": "markdown",
   "metadata": {},
   "source": [
    "# Segment the space into cubes and bin the data"
   ]
  },
  {
   "cell_type": "code",
   "execution_count": 244,
   "metadata": {},
   "outputs": [],
   "source": [
    "#Compute and/or set some variables\n",
    "levels = 1   #set levels of DWT.  May end up being less\n",
    "n_bins = 2**8\n",
    "d = X.shape[1] #number of dimensions"
   ]
  },
  {
   "cell_type": "code",
   "execution_count": 245,
   "metadata": {},
   "outputs": [],
   "source": [
    "H = np.histogramdd(X, bins=n_bins)\n",
    "data_quant = H[0]"
   ]
  },
  {
   "cell_type": "code",
   "execution_count": 246,
   "metadata": {},
   "outputs": [
    {
     "data": {
      "text/plain": [
       "array([ 1.,  0.,  0.,  0.,  0.,  0.,  0.,  0.,  0.,  0.,  0.,  0.,  0.,\n",
       "        0.,  0.,  0.,  0.,  0.,  0.,  0.,  1.,  1.,  1.,  0.,  0.,  1.,\n",
       "        2.,  3.,  0.,  2.,  5.,  1.,  1.,  3.,  3.,  1.,  3.,  2.,  4.,\n",
       "        1.,  5.,  3.,  5.,  8.,  5.,  4.,  8.,  7.,  8.,  5.,  7.,  6.,\n",
       "        8.,  8.,  9.,  6.,  7.,  9.,  5.,  8.,  5., 11.,  9.,  9.,  8.,\n",
       "        9.,  8., 12.,  5.,  6.,  9.,  7.,  9.,  1.,  6.,  4.,  9.,  8.,\n",
       "        7.,  9.,  2.,  6.,  8.,  7.,  9.,  5.,  7.,  5.,  3.,  4.,  8.,\n",
       "       11.,  8.,  7.,  5.,  6.,  6.,  8.,  6.,  4.,  5., 13., 12.,  7.,\n",
       "        7.,  8., 10.,  9., 12.,  7.,  7., 10.,  6.,  8.,  4.,  9.,  8.,\n",
       "        9.,  7.,  3.,  5.,  2.,  7.,  4.,  4.,  5.,  5.,  5.,  2.,  3.,\n",
       "        1.,  1.,  3.,  3.,  1.,  2.,  1.,  1.,  1.,  4.,  1.,  0.,  0.,\n",
       "        0.,  0.,  0.,  0.,  0.,  0.,  0.,  0.,  1.,  1.,  0.,  0.,  0.,\n",
       "        0.,  0.,  0.,  0.,  1.,  0.,  0.,  0.,  5.,  0.,  3.,  1.,  0.,\n",
       "        1.,  2.,  0.,  3.,  6.,  3.,  5.,  1.,  3.,  6.,  2.,  3.,  3.,\n",
       "        3.,  9.,  2.,  6.,  4.,  7.,  5.,  6.,  3.,  5.,  5.,  6.,  6.,\n",
       "        6.,  5.,  5.,  5.,  6.,  8., 10., 12.,  7., 11.,  7.,  9.,  5.,\n",
       "        5.,  9.,  8.,  5.,  6.,  6.,  5.,  3.,  5.,  7.,  9.,  2.,  4.,\n",
       "        8.,  3.,  5.,  5.,  4.,  2.,  1.,  1.,  5.,  2.,  3.,  2.,  2.,\n",
       "        0.,  0.,  2.,  1.,  0.,  1.,  0.,  0.,  0.,  0.,  0.,  0.,  0.,\n",
       "        0.,  0.,  0.,  0.,  0.,  0.,  0.,  0.,  1.])"
      ]
     },
     "execution_count": 246,
     "metadata": {},
     "output_type": "execute_result"
    }
   ],
   "source": [
    "data_quant"
   ]
  },
  {
   "cell_type": "markdown",
   "metadata": {},
   "source": [
    "# Compute the DWT"
   ]
  },
  {
   "cell_type": "code",
   "execution_count": 247,
   "metadata": {},
   "outputs": [],
   "source": [
    "#pywt.wavelist()\n",
    "#Information : http://wavelets.pybytes.com/"
   ]
  },
  {
   "cell_type": "code",
   "execution_count": 248,
   "metadata": {
    "scrolled": true
   },
   "outputs": [
    {
     "name": "stdout",
     "output_type": "stream",
     "text": [
      "Wavelet db4\n",
      "  Family name:    Daubechies\n",
      "  Short name:     db\n",
      "  Filters length: 8\n",
      "  Orthogonal:     True\n",
      "  Biorthogonal:   True\n",
      "  Symmetry:       asymmetric\n",
      "  DWT:            True\n",
      "  CWT:            False\n"
     ]
    }
   ],
   "source": [
    "#Select a wavelet.\n",
    "wave = 'db4'\n",
    "print(pywt.Wavelet(wave))"
   ]
  },
  {
   "cell_type": "code",
   "execution_count": 249,
   "metadata": {},
   "outputs": [],
   "source": [
    "max_level = pywt.dwt_max_level(data_len = n_bins , filter_len = pywt.Wavelet(wave).dec_len) #figure out max levels to loop over"
   ]
  },
  {
   "cell_type": "code",
   "execution_count": 277,
   "metadata": {},
   "outputs": [],
   "source": [
    "#Perform dwt on quantized data.\n",
    "wp = pywt.wavedecn(data=data_quant, wavelet=wave, level = min(levels,max_level))\n",
    "#wp = pywt.dwtn(data=data_quant, wavelet=wave)"
   ]
  },
  {
   "cell_type": "code",
   "execution_count": 278,
   "metadata": {},
   "outputs": [],
   "source": [
    "#I cannot see a way around computing DWT twice in the thresholding step\n",
    "wp_c = pywt.wavedecn(data=data_quant, wavelet=wave, level = min(levels,max_level))"
   ]
  },
  {
   "cell_type": "markdown",
   "metadata": {},
   "source": [
    "# Threshold the results of DWT"
   ]
  },
  {
   "cell_type": "code",
   "execution_count": 279,
   "metadata": {},
   "outputs": [
    {
     "data": {
      "text/plain": [
       "[array([ 6.37243935e-02, -2.15018581e-01,  1.34572734e+00,  2.30377813e-01,\n",
       "         0.00000000e+00,  0.00000000e+00,  0.00000000e+00,  0.00000000e+00,\n",
       "         0.00000000e+00,  0.00000000e+00,  2.22856099e-02, -1.23310418e-01,\n",
       "         4.05264785e-01,  1.64092035e+00, -1.00346238e-01,  2.10815722e+00,\n",
       "         1.64608593e+00,  4.54965418e+00,  1.96085627e+00,  3.86108903e+00,\n",
       "         2.65797976e+00,  3.85335181e+00,  4.14039280e+00,  5.60403621e+00,\n",
       "         8.84281866e+00,  7.68696019e+00,  1.08081653e+01,  8.64833337e+00,\n",
       "         9.36143956e+00,  1.21197840e+01,  9.88619183e+00,  1.05814491e+01,\n",
       "         8.47919062e+00,  1.33584635e+01,  1.22768604e+01,  1.24595221e+01,\n",
       "         1.22256086e+01,  9.42544555e+00,  1.19395940e+01,  5.15981864e+00,\n",
       "         8.66622029e+00,  1.19563453e+01,  8.10269402e+00,  8.24908248e+00,\n",
       "         1.12861792e+01,  9.63263347e+00,  5.99944376e+00,  7.11018623e+00,\n",
       "         1.39198876e+01,  9.11288037e+00,  8.03018843e+00,  1.05605672e+01,\n",
       "         5.14914180e+00,  1.69905182e+01,  1.06883936e+01,  1.14840500e+01,\n",
       "         1.52237691e+01,  1.10654650e+01,  1.20196455e+01,  8.35239141e+00,\n",
       "         1.10768233e+01,  1.19231559e+01,  5.74828759e+00,  6.40330822e+00,\n",
       "         6.10864187e+00,  7.25096923e+00,  5.81459555e+00,  2.75130026e+00,\n",
       "         2.65084894e+00,  3.24488636e+00,  2.23218168e+00,  1.27713526e+00,\n",
       "         3.72064486e+00,  2.30377813e-01,  0.00000000e+00, -1.05974018e-02,\n",
       "         6.37243935e-02, -2.15018581e-01,  1.34572734e+00,  2.30377813e-01,\n",
       "         3.28830117e-02, -1.87034812e-01,  7.95295826e-01, -6.16744612e-01,\n",
       "         2.61354338e+00,  3.11315501e+00,  1.03899124e+00,  1.64621399e+00,\n",
       "         1.77968859e+00,  6.81452892e+00,  3.81862648e+00,  5.63892672e+00,\n",
       "         4.33930063e+00,  4.34479043e+00,  7.78719257e+00,  6.37300799e+00,\n",
       "         8.60587159e+00,  6.57727984e+00,  6.42613499e+00,  8.37821398e+00,\n",
       "         8.09279560e+00,  6.84517279e+00,  8.46718019e+00,  1.47676379e+01,\n",
       "         1.30521939e+01,  1.26285655e+01,  7.34182516e+00,  1.16880978e+01,\n",
       "         8.28222068e+00,  8.29726675e+00,  4.68006852e+00,  1.13220283e+01,\n",
       "         5.51787430e+00,  7.63636736e+00,  6.94450282e+00,  5.24619903e+00,\n",
       "         1.42958986e+00,  4.67003403e+00,  3.86625796e+00,  1.53662312e+00,\n",
       "         1.26461915e+00,  1.14761843e+00,  7.14846571e-01,  0.00000000e+00,\n",
       "         0.00000000e+00,  0.00000000e+00,  0.00000000e+00, -1.05974018e-02,\n",
       "         6.37243935e-02, -2.15018581e-01,  1.34572734e+00]),\n",
       " {'d': array([ 8.39658026e-02,  1.59051042e-01, -2.04162983e-03, -1.05974018e-02,\n",
       "          0.00000000e+00,  0.00000000e+00,  0.00000000e+00,  0.00000000e+00,\n",
       "          0.00000000e+00,  0.00000000e+00,  4.84468757e-01,  5.59820332e-02,\n",
       "         -4.04853892e-02,  9.50399016e-02, -2.23292806e+00,  2.67199769e+00,\n",
       "         -4.92860700e-01,  2.69011523e-01,  1.47502781e+00,  1.45360815e+00,\n",
       "          2.54220212e+00, -8.85086942e-02, -1.89420467e+00,  2.94153531e+00,\n",
       "          5.13143021e-01,  1.61484080e+00,  7.61523882e-01,  8.69340227e-01,\n",
       "          3.64916808e-01, -3.09066495e+00, -2.54035979e+00, -1.43903199e+00,\n",
       "         -3.88869856e-01, -1.40137266e+00, -4.06375276e+00,  3.00619346e+00,\n",
       "          2.33226245e+00,  3.82136452e+00,  2.03822049e+00, -1.56344648e+00,\n",
       "         -4.24765256e+00,  1.80563799e+00,  1.45545725e+00,  1.78326103e+00,\n",
       "         -1.22947557e+00,  1.46841430e+00, -2.45536421e+00, -3.07279826e-01,\n",
       "         -3.69664144e-01, -8.85925106e-01, -6.81062703e-01, -7.69315643e-01,\n",
       "          7.99475883e-01,  1.03100696e+00,  2.36256781e+00, -3.97341530e-01,\n",
       "         -2.78121801e+00, -2.70007491e+00, -8.66174889e-01, -1.08974184e-01,\n",
       "          2.61665618e+00,  3.07700215e+00, -6.56466557e-01,  1.28075637e-03,\n",
       "         -1.70293726e+00, -5.81564783e-01,  1.19992687e+00, -1.62447031e+00,\n",
       "         -1.95128381e-01, -5.91059455e-01, -1.69514750e+00,  7.07516446e-01,\n",
       "         -1.11288067e-01, -1.05974018e-02,  0.00000000e+00, -2.30377813e-01,\n",
       "          8.39658026e-02,  1.59051042e-01, -2.04162983e-03, -1.05974018e-02,\n",
       "          7.14846571e-01, -2.79837694e-02,  3.60507423e+00,  1.76364565e+00,\n",
       "         -7.91002980e-01,  1.02538432e+00,  8.28664888e-01, -2.84778552e+00,\n",
       "         -2.02110381e+00,  2.70630565e+00,  4.19480673e-01, -1.45558274e+00,\n",
       "         -5.19017381e+00, -9.49114347e-01, -1.47998216e+00, -1.71843647e+00,\n",
       "         -4.25440843e-02, -2.40977786e-01, -4.50634922e-01, -4.53846314e-02,\n",
       "          3.18289464e-01,  1.49185003e+00,  3.36549107e+00,  1.82347416e+00,\n",
       "         -6.14276252e-01, -3.84968267e-01,  1.10626709e+00, -2.37116812e-01,\n",
       "          9.87089897e-01,  1.87120815e+00,  8.14562862e-01, -3.79785661e+00,\n",
       "          8.72867833e-01, -7.41882087e-01, -4.17751910e-01, -2.37962939e+00,\n",
       "         -6.77347029e-02, -8.69954336e-01,  1.51522388e+00, -1.00418695e+00,\n",
       "         -3.82163193e-01,  1.32956996e-01, -3.28830117e-02,  0.00000000e+00,\n",
       "          0.00000000e+00,  0.00000000e+00,  0.00000000e+00, -2.30377813e-01,\n",
       "          8.39658026e-02,  1.59051042e-01, -2.04162983e-03])}]"
      ]
     },
     "execution_count": 279,
     "metadata": {},
     "output_type": "execute_result"
    }
   ],
   "source": [
    "wp"
   ]
  },
  {
   "cell_type": "code",
   "execution_count": 280,
   "metadata": {},
   "outputs": [],
   "source": [
    "#Pick a threshold value.  Compute some details for loops\n",
    "epsilon = .01\n",
    "keys = wp[1].keys()  #build keys to loop over"
   ]
  },
  {
   "cell_type": "code",
   "execution_count": 281,
   "metadata": {},
   "outputs": [],
   "source": [
    "#Threshold the DWT\n",
    "wp_c[0][abs(wp_c[0])<epsilon] = 0\n",
    "wp_c[0][abs(wp_c[0])>=epsilon] = 1\n",
    "\n",
    "for i in range(1,min(levels,max_level)+1):\n",
    "    for k in keys:\n",
    "        wp_c[i][k][abs(wp_c[i][k])<epsilon] = 0\n",
    "        wp_c[i][k][abs(wp_c[i][k])>=epsilon] = 1"
   ]
  },
  {
   "cell_type": "code",
   "execution_count": 282,
   "metadata": {},
   "outputs": [
    {
     "data": {
      "text/plain": [
       "[array([1., 1., 1., 1., 0., 0., 0., 0., 0., 0., 1., 1., 1., 1., 1., 1., 1.,\n",
       "        1., 1., 1., 1., 1., 1., 1., 1., 1., 1., 1., 1., 1., 1., 1., 1., 1.,\n",
       "        1., 1., 1., 1., 1., 1., 1., 1., 1., 1., 1., 1., 1., 1., 1., 1., 1.,\n",
       "        1., 1., 1., 1., 1., 1., 1., 1., 1., 1., 1., 1., 1., 1., 1., 1., 1.,\n",
       "        1., 1., 1., 1., 1., 1., 0., 1., 1., 1., 1., 1., 1., 1., 1., 1., 1.,\n",
       "        1., 1., 1., 1., 1., 1., 1., 1., 1., 1., 1., 1., 1., 1., 1., 1., 1.,\n",
       "        1., 1., 1., 1., 1., 1., 1., 1., 1., 1., 1., 1., 1., 1., 1., 1., 1.,\n",
       "        1., 1., 1., 1., 0., 0., 0., 0., 1., 1., 1., 1.]),\n",
       " {'d': array([1., 1., 0., 1., 0., 0., 0., 0., 0., 0., 1., 1., 1., 1., 1., 1., 1.,\n",
       "         1., 1., 1., 1., 1., 1., 1., 1., 1., 1., 1., 1., 1., 1., 1., 1., 1.,\n",
       "         1., 1., 1., 1., 1., 1., 1., 1., 1., 1., 1., 1., 1., 1., 1., 1., 1.,\n",
       "         1., 1., 1., 1., 1., 1., 1., 1., 1., 1., 1., 1., 0., 1., 1., 1., 1.,\n",
       "         1., 1., 1., 1., 1., 1., 0., 1., 1., 1., 0., 1., 1., 1., 1., 1., 1.,\n",
       "         1., 1., 1., 1., 1., 1., 1., 1., 1., 1., 1., 1., 1., 1., 1., 1., 1.,\n",
       "         1., 1., 1., 1., 1., 1., 1., 1., 1., 1., 1., 1., 1., 1., 1., 1., 1.,\n",
       "         1., 1., 1., 1., 0., 0., 0., 0., 1., 1., 1., 0.])}]"
      ]
     },
     "execution_count": 282,
     "metadata": {},
     "output_type": "execute_result"
    }
   ],
   "source": [
    "wp_c"
   ]
  },
  {
   "cell_type": "markdown",
   "metadata": {},
   "source": [
    "# Find connected components"
   ]
  },
  {
   "cell_type": "code",
   "execution_count": 283,
   "metadata": {},
   "outputs": [],
   "source": [
    "#Compute the connected components of each thresholed DWT.  Adjacnecy is determined by ``four'' connectivity\n",
    "component = ndimage.label(wp_c[0])\n",
    "wp_c[0] = component[0]\n",
    "\n",
    "for i in range(1,min(levels,max_level)+1):\n",
    "    for k in keys:\n",
    "        component = ndimage.label(wp_c[i][k])\n",
    "        wp_c[i][k] = component[0]"
   ]
  },
  {
   "cell_type": "code",
   "execution_count": 284,
   "metadata": {},
   "outputs": [
    {
     "data": {
      "text/plain": [
       "[array([1, 1, 1, 1, 0, 0, 0, 0, 0, 0, 2, 2, 2, 2, 2, 2, 2, 2, 2, 2, 2, 2,\n",
       "        2, 2, 2, 2, 2, 2, 2, 2, 2, 2, 2, 2, 2, 2, 2, 2, 2, 2, 2, 2, 2, 2,\n",
       "        2, 2, 2, 2, 2, 2, 2, 2, 2, 2, 2, 2, 2, 2, 2, 2, 2, 2, 2, 2, 2, 2,\n",
       "        2, 2, 2, 2, 2, 2, 2, 2, 0, 3, 3, 3, 3, 3, 3, 3, 3, 3, 3, 3, 3, 3,\n",
       "        3, 3, 3, 3, 3, 3, 3, 3, 3, 3, 3, 3, 3, 3, 3, 3, 3, 3, 3, 3, 3, 3,\n",
       "        3, 3, 3, 3, 3, 3, 3, 3, 3, 3, 3, 3, 3, 0, 0, 0, 0, 4, 4, 4, 4],\n",
       "       dtype=int32),\n",
       " {'d': array([1, 1, 0, 2, 0, 0, 0, 0, 0, 0, 3, 3, 3, 3, 3, 3, 3, 3, 3, 3, 3, 3,\n",
       "         3, 3, 3, 3, 3, 3, 3, 3, 3, 3, 3, 3, 3, 3, 3, 3, 3, 3, 3, 3, 3, 3,\n",
       "         3, 3, 3, 3, 3, 3, 3, 3, 3, 3, 3, 3, 3, 3, 3, 3, 3, 3, 3, 0, 4, 4,\n",
       "         4, 4, 4, 4, 4, 4, 4, 4, 0, 5, 5, 5, 0, 6, 6, 6, 6, 6, 6, 6, 6, 6,\n",
       "         6, 6, 6, 6, 6, 6, 6, 6, 6, 6, 6, 6, 6, 6, 6, 6, 6, 6, 6, 6, 6, 6,\n",
       "         6, 6, 6, 6, 6, 6, 6, 6, 6, 6, 6, 6, 6, 0, 0, 0, 0, 7, 7, 7, 0],\n",
       "        dtype=int32)}]"
      ]
     },
     "execution_count": 284,
     "metadata": {},
     "output_type": "execute_result"
    }
   ],
   "source": [
    "wp_c"
   ]
  },
  {
   "cell_type": "markdown",
   "metadata": {},
   "source": [
    "# Create Lookup Table"
   ]
  },
  {
   "cell_type": "code",
   "execution_count": 290,
   "metadata": {},
   "outputs": [],
   "source": [
    "#Can I just mask each piece and run backwards? - ANSWER: NO"
   ]
  },
  {
   "cell_type": "markdown",
   "metadata": {},
   "source": [
    "# Trash"
   ]
  },
  {
   "cell_type": "code",
   "execution_count": 14,
   "metadata": {},
   "outputs": [],
   "source": [
    "#Create the bins\n",
    "#bin_list = []\n",
    "#for i in list(range(d)):\n",
    "#    dim_min = math.floor(min(X[:,i]))\n",
    "#    dim_max = math.ceil(max(X[:,i]))\n",
    "#    dim_bin = np.linspace(start=dim_min, stop=dim_max, num=n_bins)\n",
    "#    bin_list.append(dim_bin)\n",
    "#    \n",
    "#bin_list = np.stack(bin_list, axis=0)"
   ]
  },
  {
   "cell_type": "code",
   "execution_count": 15,
   "metadata": {},
   "outputs": [],
   "source": [
    "#Quantize data into the bins\n",
    "#data_quant = []\n",
    "#index_key = []\n",
    "#for b in list(range(d)):\n",
    "#    inds = np.digitize(X[:,b], bin_list[b])\n",
    "#    index_key.append(inds)\n",
    "#    data_quant.append(np.bincount(inds, minlength = n_bins))\n",
    "#\n",
    "#index_key = np.stack(index_key,axis=0)\n",
    "#data_quant = np.stack(data_quant, axis=0)"
   ]
  },
  {
   "cell_type": "code",
   "execution_count": null,
   "metadata": {},
   "outputs": [],
   "source": []
  }
 ],
 "metadata": {
  "kernelspec": {
   "display_name": "Python 3",
   "language": "python",
   "name": "python3"
  },
  "language_info": {
   "codemirror_mode": {
    "name": "ipython",
    "version": 3
   },
   "file_extension": ".py",
   "mimetype": "text/x-python",
   "name": "python",
   "nbconvert_exporter": "python",
   "pygments_lexer": "ipython3",
   "version": "3.6.5"
  }
 },
 "nbformat": 4,
 "nbformat_minor": 2
}
