{
 "cells": [
  {
   "cell_type": "code",
   "execution_count": 1,
   "metadata": {},
   "outputs": [],
   "source": [
    "import xarray as xr\n",
    "import numpy as np\n",
    "import matplotlib.pyplot as plt\n",
    "import pandas as pd\n",
    "import dask.array as da\n",
    "import time\n",
    "import dask_ml.cluster"
   ]
  },
  {
   "cell_type": "code",
   "execution_count": 3,
   "metadata": {},
   "outputs": [
    {
     "data": {
      "text/html": [
       "<table style=\"border: 2px solid white;\">\n",
       "<tr>\n",
       "<td style=\"vertical-align: top; border: 0px solid white\">\n",
       "<h3>Client</h3>\n",
       "<ul>\n",
       "  <li><b>Scheduler: </b>tcp://127.0.0.1:41925\n",
       "  <li><b>Dashboard: </b><a href='http://127.0.0.1:42071/status' target='_blank'>http://127.0.0.1:42071/status</a>\n",
       "</ul>\n",
       "</td>\n",
       "<td style=\"vertical-align: top; border: 0px solid white\">\n",
       "<h3>Cluster</h3>\n",
       "<ul>\n",
       "  <li><b>Workers: </b>4</li>\n",
       "  <li><b>Cores: </b>4</li>\n",
       "  <li><b>Memory: </b>6.24 GB</li>\n",
       "</ul>\n",
       "</td>\n",
       "</tr>\n",
       "</table>"
      ],
      "text/plain": [
       "<Client: scheduler='tcp://127.0.0.1:41925' processes=4 cores=4>"
      ]
     },
     "execution_count": 3,
     "metadata": {},
     "output_type": "execute_result"
    }
   ],
   "source": [
    "from dask.distributed import Client\n",
    "client = Client()  # set up local cluster on your laptop\n",
    "client"
   ]
  },
  {
   "cell_type": "code",
   "execution_count": 4,
   "metadata": {},
   "outputs": [
    {
     "name": "stdout",
     "output_type": "stream",
     "text": [
      "14.931962728500366\n"
     ]
    }
   ],
   "source": [
    "#Bring in the whole dataset\n",
    "start = time.time()\n",
    "ds = xr.open_mfdataset('/home/ddesantis/Downloads/livneh_NAmerExt_15Oct2014.*.mon.nc')\n",
    "end = time.time()\n",
    "print(end - start)"
   ]
  },
  {
   "cell_type": "code",
   "execution_count": 329,
   "metadata": {},
   "outputs": [
    {
     "data": {
      "text/plain": [
       "<matplotlib.collections.QuadMesh at 0x7fe338954b00>"
      ]
     },
     "execution_count": 329,
     "metadata": {},
     "output_type": "execute_result"
    },
    {
     "data": {
      "image/png": "[encoded data removed]",
      "text/plain": [
       "<Figure size 432x288 with 2 Axes>"
      ]
     },
     "metadata": {},
     "output_type": "display_data"
    }
   ],
   "source": [
    "#Create a sub DataArray over smaller area; view some of the data to make sure not all NAN\n",
    "ds2 = ds.isel(lat=slice(60,65), lon=slice(340,345), time=slice(0,20))\n",
    "#ds2 = ds.isel(time=slice(0,60))\n",
    "ds2.Prec.isel(time=0).load()\n",
    "ds2.Prec.isel(time=0).plot()"
   ]
  },
  {
   "cell_type": "code",
   "execution_count": 330,
   "metadata": {},
   "outputs": [],
   "source": [
    "#Group (x,y) data into list for applying a function\n",
    "ds3 = ds2.stack(points=['lon','lat'])"
   ]
  },
  {
   "cell_type": "code",
   "execution_count": 331,
   "metadata": {},
   "outputs": [],
   "source": [
    "#Create the function that stacks each points data. \n",
    "def pile(ds):\n",
    "    temp = [ds.Prec, ds.Tmax, ds.Tmin]\n",
    "    return da.concatenate(temp,axis=0)"
   ]
  },
  {
   "cell_type": "code",
   "execution_count": 334,
   "metadata": {},
   "outputs": [
    {
     "name": "stdout",
     "output_type": "stream",
     "text": [
      "2.1254191398620605\n"
     ]
    }
   ],
   "source": [
    "#Peform pile, and put each dask array into two lists: nan and non nan.  Keep track of index ATTEMPT 2\n",
    "start = time.time()\n",
    "data_pile = []\n",
    "data_pile_nan = []\n",
    "index = []\n",
    "index_nan = []\n",
    "count = 0\n",
    "for p in ds3.points:\n",
    "    if np.isnan(ds3.Prec.isel(time=0).sel(points=p.values)): #check if nan value\n",
    "        data_pile_nan.append(pile(ds3.sel(points = p.values)))\n",
    "        index_nan.append(count)\n",
    "        count = count +1\n",
    "    else:\n",
    "        data_pile.append(pile(ds3.sel(points = p.values)))\n",
    "        index.append(count)\n",
    "        count = count + 1\n",
    "end = time.time()\n",
    "print(end - start)"
   ]
  },
  {
   "cell_type": "code",
   "execution_count": 335,
   "metadata": {},
   "outputs": [
    {
     "data": {
      "text/plain": [
       "dask.array<array, shape=(14, 60), dtype=float32, chunksize=(14, 60)>"
      ]
     },
     "execution_count": 335,
     "metadata": {},
     "output_type": "execute_result"
    }
   ],
   "source": [
    "#Create a single dask array for use in k-means\n",
    "data = da.stack(data_pile, axis=0)\n",
    "data = da.from_array(data,chunks=(100,900)) #Adjust the chunksize to match the shape.  Currently doing by hand\n",
    "data"
   ]
  },
  {
   "cell_type": "code",
   "execution_count": 336,
   "metadata": {},
   "outputs": [
    {
     "name": "stdout",
     "output_type": "stream",
     "text": [
      "185.6692578792572\n"
     ]
    }
   ],
   "source": [
    "#Fit data using K-means\n",
    "start = time.time()\n",
    "\n",
    "km = dask_ml.cluster.KMeans(n_clusters=3, init='k-means++', max_iter=10, tol=1)\n",
    "km.fit(data)\n",
    "\n",
    "end = time.time()\n",
    "print(end - start)"
   ]
  },
  {
   "cell_type": "code",
   "execution_count": 337,
   "metadata": {},
   "outputs": [
    {
     "data": {
      "text/plain": [
       "dask.array<astype, shape=(14,), dtype=int32, chunksize=(14,)>"
      ]
     },
     "execution_count": 337,
     "metadata": {},
     "output_type": "execute_result"
    }
   ],
   "source": [
    "#Find labels for each non-nan point\n",
    "classes = km.labels_\n",
    "classes"
   ]
  },
  {
   "cell_type": "code",
   "execution_count": 338,
   "metadata": {},
   "outputs": [],
   "source": [
    "#Define label for nan value to be -1\n",
    "classes_nan = da.ones(len(index_nan),chunks = len(index_nan))*-1"
   ]
  },
  {
   "cell_type": "code",
   "execution_count": 339,
   "metadata": {},
   "outputs": [],
   "source": [
    "#Combine classes into single dask array: nan values last\n",
    "class_pile = [classes, classes_nan]\n",
    "classes_all = da.concatenate(class_pile)"
   ]
  },
  {
   "cell_type": "code",
   "execution_count": 340,
   "metadata": {},
   "outputs": [],
   "source": [
    "#Create x-array for all the index\n",
    "index_all = index + index_nan"
   ]
  },
  {
   "cell_type": "code",
   "execution_count": 341,
   "metadata": {},
   "outputs": [
    {
     "name": "stdout",
     "output_type": "stream",
     "text": [
      "0.025920867919921875\n"
     ]
    }
   ],
   "source": [
    "#Create a data frame of (x,y) points with prediction labels\n",
    "start = time.time()\n",
    "\n",
    "temp_array = xr.DataArray(classes_all, dims={'points': ds3.points[index_all]}) #put classes in data array indexed by points\n",
    "ds4 = ds3\n",
    "ds4['points'] = ds3.points[index_all]\n",
    "ds4['classes'] = temp_array\n",
    "ds4 = ds4.unstack('points')\n",
    "\n",
    "end = time.time()\n",
    "print(end - start)"
   ]
  },
  {
   "cell_type": "code",
   "execution_count": 343,
   "metadata": {},
   "outputs": [
    {
     "data": {
      "text/plain": [
       "<matplotlib.collections.QuadMesh at 0x7fe31e4ebcf8>"
      ]
     },
     "execution_count": 343,
     "metadata": {},
     "output_type": "execute_result"
    },
    {
     "data": {
      "image/png": "[encoded data removed]",
      "text/plain": [
       "<Figure size 432x288 with 2 Axes>"
      ]
     },
     "metadata": {},
     "output_type": "display_data"
    }
   ],
   "source": [
    "ds4['classes'].plot()"
   ]
  },
  {
   "cell_type": "code",
   "execution_count": 321,
   "metadata": {},
   "outputs": [
    {
     "data": {
      "text/plain": [
       "<xarray.DataArray 'classes' (lon: 5, lat: 5)>\n",
       "dask.array<shape=(5, 5), dtype=float64, chunksize=(5, 5)>\n",
       "Coordinates:\n",
       "  * lon      (lon) float64 -103.7 -103.7 -103.6 -103.5 -103.5\n",
       "  * lat      (lat) float64 18.41 18.47 18.53 18.59 18.66"
      ]
     },
     "execution_count": 321,
     "metadata": {},
     "output_type": "execute_result"
    }
   ],
   "source": [
    "ds4['classes']"
   ]
  },
  {
   "cell_type": "code",
   "execution_count": 322,
   "metadata": {},
   "outputs": [
    {
     "data": {
      "text/plain": [
       "<xarray.DataArray 'Prec' (lat: 5, lon: 5)>\n",
       "dask.array<shape=(5, 5), dtype=float32, chunksize=(5, 5)>\n",
       "Coordinates:\n",
       "  * lon      (lon) float64 -103.7 -103.7 -103.6 -103.5 -103.5\n",
       "  * lat      (lat) float64 18.41 18.47 18.53 18.59 18.66"
      ]
     },
     "execution_count": 322,
     "metadata": {},
     "output_type": "execute_result"
    }
   ],
   "source": [
    "ds2.Prec.mean('time')"
   ]
  },
  {
   "cell_type": "code",
   "execution_count": 301,
   "metadata": {},
   "outputs": [
    {
     "data": {
      "text/plain": [
       "<matplotlib.collections.QuadMesh at 0x7fe3064e3b00>"
      ]
     },
     "execution_count": 301,
     "metadata": {},
     "output_type": "execute_result"
    },
    {
     "data": {
      "image/png": "[encoded data removed]",
      "text/plain": [
       "<Figure size 432x288 with 2 Axes>"
      ]
     },
     "metadata": {},
     "output_type": "display_data"
    }
   ],
   "source": [
    "#Compare to mean of Prec, Tmax and Tmin\n",
    "ds2.Prec.mean('time').plot()"
   ]
  },
  {
   "cell_type": "code",
   "execution_count": 263,
   "metadata": {},
   "outputs": [
    {
     "data": {
      "text/plain": [
       "<matplotlib.collections.QuadMesh at 0x7fe30d02beb8>"
      ]
     },
     "execution_count": 263,
     "metadata": {},
     "output_type": "execute_result"
    },
    {
     "data": {
      "image/png": "[encoded data removed]",
      "text/plain": [
       "<Figure size 432x288 with 2 Axes>"
      ]
     },
     "metadata": {},
     "output_type": "display_data"
    }
   ],
   "source": [
    "ds2.Tmax.mean('time').plot()"
   ]
  },
  {
   "cell_type": "code",
   "execution_count": 264,
   "metadata": {
    "scrolled": false
   },
   "outputs": [
    {
     "data": {
      "text/plain": [
       "<matplotlib.collections.QuadMesh at 0x7fe30cfa0fd0>"
      ]
     },
     "execution_count": 264,
     "metadata": {},
     "output_type": "execute_result"
    },
    {
     "data": {
      "image/png": "[encoded data removed]",
      "text/plain": [
       "<Figure size 432x288 with 2 Axes>"
      ]
     },
     "metadata": {},
     "output_type": "display_data"
    }
   ],
   "source": [
    "ds2.Tmin.mean('time').plot()"
   ]
  },
  {
   "cell_type": "code",
   "execution_count": 6,
   "metadata": {},
   "outputs": [],
   "source": [
    "#Here we create a mask for nans.  If value is nan, we set it to 100*max value of ds.\n",
    "#mask = np.isnan(ds2)   #mask with True at nan\n",
    "#opmask = np.logical_not(mask)   #oposite mask\n",
    "#scale = mask.astype(int)*np.max(ds2)*100  #int valued mask with large value at nan, 0 else\n",
    "#ds3 = scale + np.multiply(opmask.astype(int),ds2.astype(int))"
   ]
  },
  {
   "cell_type": "code",
   "execution_count": 7,
   "metadata": {},
   "outputs": [],
   "source": [
    "#Here we create a mask for nans.  Set nan value to zero\n",
    "#mask = np.isnan(ds2)   #mask with True at nan\n",
    "#opmask = np.logical_not(mask)   #oposite mask\n",
    "#scale = mask.astype(int)*np.max(ds2)*100  #int valued mask with large value at nan, 0 else\n",
    "#ds3 = np.multiply(opmask.astype(int),ds2.astype(int))"
   ]
  },
  {
   "cell_type": "code",
   "execution_count": 332,
   "metadata": {},
   "outputs": [],
   "source": [
    "#Peform pile, and put each dask array into a single list\n",
    "#start = time.time()\n",
    "#data_pile = []\n",
    "#for p in ds4.points:\n",
    "#    data_pile.append(pile(ds4.sel(points = p.values)))\n",
    "#end = time.time()\n",
    "#print(end - start)"
   ]
  },
  {
   "cell_type": "code",
   "execution_count": null,
   "metadata": {},
   "outputs": [],
   "source": []
  }
 ],
 "metadata": {
  "kernelspec": {
   "display_name": "Python 3",
   "language": "python",
   "name": "python3"
  },
  "language_info": {
   "codemirror_mode": {
    "name": "ipython",
    "version": 3
   },
   "file_extension": ".py",
   "mimetype": "text/x-python",
   "name": "python",
   "nbconvert_exporter": "python",
   "pygments_lexer": "ipython3",
   "version": "3.6.5"
  }
 },
 "nbformat": 4,
 "nbformat_minor": 2
}
