{
 "cells": [
  {
   "cell_type": "code",
   "execution_count": 1,
   "metadata": {},
   "outputs": [],
   "source": [
    "import numpy as np\n",
    "import xarray as xr\n",
    "import pandas as pd\n",
    "import dask.array as da\n",
    "import time\n",
    "from sklearn import metrics\n",
    "from sklearn.datasets.samples_generator import make_blobs\n",
    "from sklearn.preprocessing import StandardScaler\n",
    "import matplotlib.pyplot as plt\n",
    "import math\n",
    "import pywt\n",
    "import scipy\n",
    "from scipy import ndimage"
   ]
  },
  {
   "cell_type": "code",
   "execution_count": 2,
   "metadata": {},
   "outputs": [
    {
     "data": {
      "text/html": [
       "<table style=\"border: 2px solid white;\">\n",
       "<tr>\n",
       "<td style=\"vertical-align: top; border: 0px solid white\">\n",
       "<h3>Client</h3>\n",
       "<ul>\n",
       "  <li><b>Scheduler: </b>tcp://127.0.0.1:45353\n",
       "  <li><b>Dashboard: </b><a href='http://127.0.0.1:8787/status' target='_blank'>http://127.0.0.1:8787/status</a>\n",
       "</ul>\n",
       "</td>\n",
       "<td style=\"vertical-align: top; border: 0px solid white\">\n",
       "<h3>Cluster</h3>\n",
       "<ul>\n",
       "  <li><b>Workers: </b>4</li>\n",
       "  <li><b>Cores: </b>4</li>\n",
       "  <li><b>Memory: </b>6.24 GB</li>\n",
       "</ul>\n",
       "</td>\n",
       "</tr>\n",
       "</table>"
      ],
      "text/plain": [
       "<Client: scheduler='tcp://127.0.0.1:45353' processes=4 cores=4>"
      ]
     },
     "execution_count": 2,
     "metadata": {},
     "output_type": "execute_result"
    }
   ],
   "source": [
    "from dask.distributed import Client\n",
    "client = Client()  # set up local cluster on your laptop\n",
    "client"
   ]
  },
  {
   "cell_type": "code",
   "execution_count": 3,
   "metadata": {},
   "outputs": [
    {
     "name": "stdout",
     "output_type": "stream",
     "text": [
      "13.916031837463379\n"
     ]
    }
   ],
   "source": [
    "#Bring in the whole dataset\n",
    "start = time.time()\n",
    "ds = xr.open_mfdataset('/home/ddesantis/Downloads/livneh_NAmerExt_15Oct2014.*.mon.nc')\n",
    "end = time.time()\n",
    "print(end - start)"
   ]
  },
  {
   "cell_type": "markdown",
   "metadata": {},
   "source": [
    "# Prepare data for processing"
   ]
  },
  {
   "cell_type": "code",
   "execution_count": 28,
   "metadata": {},
   "outputs": [
    {
     "data": {
      "text/plain": [
       "<matplotlib.collections.QuadMesh at 0x7f282ecf29b0>"
      ]
     },
     "execution_count": 28,
     "metadata": {},
     "output_type": "execute_result"
    },
    {
     "data": {
      "image/png": "[encoded data removed]",
      "text/plain": [
       "<Figure size 432x288 with 2 Axes>"
      ]
     },
     "metadata": {},
     "output_type": "display_data"
    }
   ],
   "source": [
    "#Create a sub DataArray over smaller area; view some of the data to make sure not all NAN\n",
    "ds2 = ds.isel(lat=slice(70,100), lon=slice(360,390), time=slice(0,60))\n",
    "#ds2 = ds.isel(time=slice(0,60))\n",
    "ds2.Prec.isel(time=0).load()\n",
    "ds2.Prec.isel(time=0).plot()"
   ]
  },
  {
   "cell_type": "code",
   "execution_count": 48,
   "metadata": {},
   "outputs": [],
   "source": [
    "#Set the number of bins we want to have for our data\n",
    "bin_number = 2**9"
   ]
  },
  {
   "cell_type": "code",
   "execution_count": 30,
   "metadata": {},
   "outputs": [],
   "source": [
    "#Stack the data along the space time axis\n",
    "ds3 = ds2.stack(points=['lon','lat','time'])"
   ]
  },
  {
   "cell_type": "markdown",
   "metadata": {},
   "source": [
    "# Quantize the data"
   ]
  },
  {
   "cell_type": "code",
   "execution_count": 31,
   "metadata": {},
   "outputs": [
    {
     "data": {
      "text/plain": [
       "dask.array<transpose, shape=(54000, 3), dtype=float32, chunksize=(1800, 1)>"
      ]
     },
     "execution_count": 31,
     "metadata": {},
     "output_type": "execute_result"
    }
   ],
   "source": [
    "#Shape the data\n",
    "shape = da.stack([ds3.Prec.data, ds3.Tmax.data, ds3.Tmin.data])\n",
    "shape = da.transpose(shape)\n",
    "shape"
   ]
  },
  {
   "cell_type": "code",
   "execution_count": 49,
   "metadata": {},
   "outputs": [],
   "source": [
    "#Build the histogram\n",
    "H = np.histogramdd(shape, bins=bin_number)\n",
    "data_quant = H[0]"
   ]
  },
  {
   "cell_type": "markdown",
   "metadata": {},
   "source": [
    "# Compute DWT"
   ]
  },
  {
   "cell_type": "code",
   "execution_count": 50,
   "metadata": {},
   "outputs": [],
   "source": [
    "#Set the number of levels for DWT, as well as the wavelet\n",
    "levels = 1\n",
    "wave = 'bior2.2'\n",
    "\n",
    "#figure out max possible levels to loop over given size of data\n",
    "max_level = pywt.dwt_max_level(data_len = bin_number , filter_len = pywt.Wavelet(wave).dec_len) "
   ]
  },
  {
   "cell_type": "code",
   "execution_count": 51,
   "metadata": {},
   "outputs": [],
   "source": [
    "#Perform dwt on quantized data.\n",
    "wp = pywt.wavedecn(data=data_quant, wavelet=wave, level = min(levels,max_level))\n",
    "#wp = pywt.dwtn(data=data_quant, wavelet=wave)"
   ]
  },
  {
   "cell_type": "code",
   "execution_count": 47,
   "metadata": {},
   "outputs": [
    {
     "data": {
      "text/plain": [
       "(array([      1,       0,       2,       6,      11,      17,      41,\n",
       "            110,     500,    5167, 2142445,   27256,   10768,    2848,\n",
       "           3138,    1303,     734,     475,     334,     237,     192,\n",
       "            155,     116,     110,     110,      68,      61,      59,\n",
       "             59,      50,      47,      47,      36,      41,      34,\n",
       "             28,      27,      26,      24,      22,      18,      22,\n",
       "             19,      19,      14,      20,      20,      10,       8,\n",
       "              9,      11,      14,      11,       7,       6,       0,\n",
       "              8,       7,       7,       7,       6,       5,       2,\n",
       "              9,       5,       2,       1,       5,       1,       1,\n",
       "              0,       2,       0,       1,       3,       0,       1,\n",
       "              4,       1,       2,       1,       0,       2,       0,\n",
       "              1,       1,       0,       0,       0,       0,       1,\n",
       "              0,       0,       0,       0,       0,       0,       0,\n",
       "              0,       1]),\n",
       " array([-3.46924265, -3.14828246, -2.82732227, -2.50636208, -2.1854019 ,\n",
       "        -1.86444171, -1.54348152, -1.22252133, -0.90156115, -0.58060096,\n",
       "        -0.25964077,  0.06131942,  0.3822796 ,  0.70323979,  1.02419998,\n",
       "         1.34516017,  1.66612035,  1.98708054,  2.30804073,  2.62900092,\n",
       "         2.9499611 ,  3.27092129,  3.59188148,  3.91284166,  4.23380185,\n",
       "         4.55476204,  4.87572223,  5.19668241,  5.5176426 ,  5.83860279,\n",
       "         6.15956298,  6.48052316,  6.80148335,  7.12244354,  7.44340373,\n",
       "         7.76436391,  8.0853241 ,  8.40628429,  8.72724448,  9.04820466,\n",
       "         9.36916485,  9.69012504, 10.01108523, 10.33204541, 10.6530056 ,\n",
       "        10.97396579, 11.29492598, 11.61588616, 11.93684635, 12.25780654,\n",
       "        12.57876672, 12.89972691, 13.2206871 , 13.54164729, 13.86260747,\n",
       "        14.18356766, 14.50452785, 14.82548804, 15.14644822, 15.46740841,\n",
       "        15.7883686 , 16.10932879, 16.43028897, 16.75124916, 17.07220935,\n",
       "        17.39316954, 17.71412972, 18.03508991, 18.3560501 , 18.67701029,\n",
       "        18.99797047, 19.31893066, 19.63989085, 19.96085103, 20.28181122,\n",
       "        20.60277141, 20.9237316 , 21.24469178, 21.56565197, 21.88661216,\n",
       "        22.20757235, 22.52853253, 22.84949272, 23.17045291, 23.4914131 ,\n",
       "        23.81237328, 24.13333347, 24.45429366, 24.77525385, 25.09621403,\n",
       "        25.41717422, 25.73813441, 26.0590946 , 26.38005478, 26.70101497,\n",
       "        27.02197516, 27.34293535, 27.66389553, 27.98485572, 28.30581591,\n",
       "        28.62677609]))"
      ]
     },
     "execution_count": 47,
     "metadata": {},
     "output_type": "execute_result"
    }
   ],
   "source": [
    "#View the distribution of the DWT values\n",
    "np.histogram(wp[0], bins=100)"
   ]
  },
  {
   "cell_type": "markdown",
   "metadata": {},
   "source": [
    "# Threshold the results of DWT"
   ]
  },
  {
   "cell_type": "code",
   "execution_count": 186,
   "metadata": {},
   "outputs": [],
   "source": [
    "#Pick a threshold value.  \n",
    "# For climate data, we probably only want the approximate (low frequency) coefficents to cluster. \n",
    "epsilon = .0001"
   ]
  },
  {
   "cell_type": "code",
   "execution_count": 187,
   "metadata": {},
   "outputs": [],
   "source": [
    "#Threshold the DWT\n",
    "wp[0][abs(wp[0])<epsilon] = 0\n",
    "wp[0][abs(wp[0])>=epsilon] = 1"
   ]
  },
  {
   "cell_type": "markdown",
   "metadata": {},
   "source": [
    "# Find connected components"
   ]
  },
  {
   "cell_type": "code",
   "execution_count": 188,
   "metadata": {},
   "outputs": [],
   "source": [
    "#Compute the connected components of each thresholed DWT.  Adjacnecy is determined by ``four'' connectivity.\n",
    "component = ndimage.label(wp[0])[0]"
   ]
  },
  {
   "cell_type": "code",
   "execution_count": 193,
   "metadata": {},
   "outputs": [
    {
     "data": {
      "text/plain": [
       "1.0"
      ]
     },
     "execution_count": 193,
     "metadata": {},
     "output_type": "execute_result"
    }
   ],
   "source": [
    "#Check number of connected components\n",
    "np.max(wp[0])"
   ]
  },
  {
   "cell_type": "markdown",
   "metadata": {},
   "source": [
    "# Create lookup Table"
   ]
  },
  {
   "cell_type": "code",
   "execution_count": 168,
   "metadata": {},
   "outputs": [],
   "source": [
    "#The following lookup table is only built to handle the Haar wavelet.\n",
    "#First, label data_quant classes\n",
    "classes = np.repeat(component, levels + 1)\n",
    "\n",
    "if data_quant.size % 2 ==1:  #If odd number of elements in array, need to deal with right endpoint\n",
    "    classes = classes[:-1]"
   ]
  },
  {
   "cell_type": "code",
   "execution_count": 170,
   "metadata": {},
   "outputs": [
    {
     "data": {
      "text/plain": [
       "(4194304,)"
      ]
     },
     "execution_count": 170,
     "metadata": {},
     "output_type": "execute_result"
    }
   ],
   "source": [
    "classes.shape"
   ]
  },
  {
   "cell_type": "code",
   "execution_count": null,
   "metadata": {},
   "outputs": [],
   "source": []
  }
 ],
 "metadata": {
  "kernelspec": {
   "display_name": "Python 3",
   "language": "python",
   "name": "python3"
  },
  "language_info": {
   "codemirror_mode": {
    "name": "ipython",
    "version": 3
   },
   "file_extension": ".py",
   "mimetype": "text/x-python",
   "name": "python",
   "nbconvert_exporter": "python",
   "pygments_lexer": "ipython3",
   "version": "3.6.5"
  }
 },
 "nbformat": 4,
 "nbformat_minor": 2
}
