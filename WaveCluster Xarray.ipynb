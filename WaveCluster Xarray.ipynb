{
 "cells": [
  {
   "cell_type": "code",
   "execution_count": 1,
   "metadata": {},
   "outputs": [],
   "source": [
    "import numpy as np\n",
    "import xarray as xr\n",
    "import pandas as pd\n",
    "import dask.array as da\n",
    "import time\n",
    "from sklearn import metrics\n",
    "from sklearn.datasets.samples_generator import make_blobs\n",
    "from sklearn.preprocessing import StandardScaler\n",
    "import matplotlib.pyplot as plt\n",
    "import math\n",
    "import pywt\n",
    "import scipy\n",
    "from scipy import ndimage"
   ]
  },
  {
   "cell_type": "code",
   "execution_count": 2,
   "metadata": {},
   "outputs": [
    {
     "data": {
      "text/html": [
       "<table style=\"border: 2px solid white;\">\n",
       "<tr>\n",
       "<td style=\"vertical-align: top; border: 0px solid white\">\n",
       "<h3>Client</h3>\n",
       "<ul>\n",
       "  <li><b>Scheduler: </b>tcp://127.0.0.1:35379\n",
       "  <li><b>Dashboard: </b><a href='http://127.0.0.1:8787/status' target='_blank'>http://127.0.0.1:8787/status</a>\n",
       "</ul>\n",
       "</td>\n",
       "<td style=\"vertical-align: top; border: 0px solid white\">\n",
       "<h3>Cluster</h3>\n",
       "<ul>\n",
       "  <li><b>Workers: </b>4</li>\n",
       "  <li><b>Cores: </b>4</li>\n",
       "  <li><b>Memory: </b>6.24 GB</li>\n",
       "</ul>\n",
       "</td>\n",
       "</tr>\n",
       "</table>"
      ],
      "text/plain": [
       "<Client: scheduler='tcp://127.0.0.1:35379' processes=4 cores=4>"
      ]
     },
     "execution_count": 2,
     "metadata": {},
     "output_type": "execute_result"
    }
   ],
   "source": [
    "from dask.distributed import Client\n",
    "client = Client()  # set up local cluster on your laptop\n",
    "client"
   ]
  },
  {
   "cell_type": "code",
   "execution_count": 3,
   "metadata": {},
   "outputs": [
    {
     "name": "stdout",
     "output_type": "stream",
     "text": [
      "13.285846710205078\n"
     ]
    }
   ],
   "source": [
    "#Bring in the whole dataset\n",
    "start = time.time()\n",
    "ds = xr.open_mfdataset('/home/ddesantis/Downloads/livneh_NAmerExt_15Oct2014.*.mon.nc')\n",
    "end = time.time()\n",
    "print(end - start)"
   ]
  },
  {
   "cell_type": "markdown",
   "metadata": {},
   "source": [
    "# Prepare data for processing"
   ]
  },
  {
   "cell_type": "code",
   "execution_count": 79,
   "metadata": {},
   "outputs": [
    {
     "data": {
      "text/plain": [
       "<matplotlib.collections.QuadMesh at 0x7fa9c2aa4518>"
      ]
     },
     "execution_count": 79,
     "metadata": {},
     "output_type": "execute_result"
    },
    {
     "data": {
      "image/png": "[encoded data removed]",
      "text/plain": [
       "<Figure size 432x288 with 2 Axes>"
      ]
     },
     "metadata": {},
     "output_type": "display_data"
    }
   ],
   "source": [
    "#Create a sub DataArray over smaller area; view some of the data to make sure not all NAN\n",
    "ds2 = ds.isel(lat=slice(300,320), lon=slice(200,220), time=slice(0,60))\n",
    "#ds2 = ds.isel(time=slice(0,60))\n",
    "ds2.Prec.isel(time=0).load()\n",
    "ds2.Prec.isel(time=0).plot()"
   ]
  },
  {
   "cell_type": "code",
   "execution_count": 80,
   "metadata": {},
   "outputs": [],
   "source": [
    "#Set the number of bins we want to have for our data\n",
    "bin_number = 2**8"
   ]
  },
  {
   "cell_type": "code",
   "execution_count": 114,
   "metadata": {},
   "outputs": [],
   "source": [
    "#Stack the data along the space time axis\n",
    "ds3 = ds2.stack(points=['lon','lat','time'])"
   ]
  },
  {
   "cell_type": "code",
   "execution_count": 115,
   "metadata": {},
   "outputs": [
    {
     "data": {
      "text/plain": [
       "<xarray.DataArray 'Prec' (points: 24000)>\n",
       "dask.array<shape=(24000,), dtype=float32, chunksize=(1200,)>\n",
       "Coordinates:\n",
       "  * points   (points) MultiIndex\n",
       "  - lon      (points) float64 -112.5 -112.5 -112.5 -112.5 -112.5 -112.5 ...\n",
       "  - lat      (points) float64 33.41 33.41 33.41 33.41 33.41 33.41 33.41 ...\n",
       "  - time     (points) datetime64[ns] 1950-01-16 1950-02-14T12:00:00 ...\n",
       "Attributes:\n",
       "    units:     mm\n",
       "    longname:  Precipitation"
      ]
     },
     "execution_count": 115,
     "metadata": {},
     "output_type": "execute_result"
    }
   ],
   "source": [
    "ds3.Prec"
   ]
  },
  {
   "cell_type": "markdown",
   "metadata": {},
   "source": [
    "# Quantize the data"
   ]
  },
  {
   "cell_type": "code",
   "execution_count": 116,
   "metadata": {},
   "outputs": [
    {
     "data": {
      "text/plain": [
       "dask.array<transpose, shape=(24000, 3), dtype=float32, chunksize=(1200, 1)>"
      ]
     },
     "execution_count": 116,
     "metadata": {},
     "output_type": "execute_result"
    }
   ],
   "source": [
    "#Shape the data\n",
    "shape = da.stack([ds3.Prec.data, ds3.Tmax.data, ds3.Tmin.data])\n",
    "shape = da.transpose(shape)\n",
    "shape"
   ]
  },
  {
   "cell_type": "code",
   "execution_count": 117,
   "metadata": {},
   "outputs": [],
   "source": [
    "#Build the histogram\n",
    "H = np.histogramdd(shape, bins=bin_number)\n",
    "data_quant = H[0]"
   ]
  },
  {
   "cell_type": "markdown",
   "metadata": {},
   "source": [
    "# Compute DWT"
   ]
  },
  {
   "cell_type": "code",
   "execution_count": 131,
   "metadata": {},
   "outputs": [],
   "source": [
    "#Set the number of levels for DWT, as well as the wavelet\n",
    "levels = 3\n",
    "wave = 'bior2.2'\n",
    "\n",
    "#figure out max possible levels to loop over given size of data\n",
    "max_level = pywt.dwt_max_level(data_len = bin_number , filter_len = pywt.Wavelet(wave).dec_len) "
   ]
  },
  {
   "cell_type": "code",
   "execution_count": 132,
   "metadata": {},
   "outputs": [],
   "source": [
    "#Perform dwt on quantized data.\n",
    "wp = pywt.wavedecn(data=data_quant, wavelet=wave, level = min(levels,max_level))\n",
    "#wp = pywt.dwtn(data=data_quant, wavelet=wave)"
   ]
  },
  {
   "cell_type": "code",
   "execution_count": 133,
   "metadata": {},
   "outputs": [
    {
     "data": {
      "text/plain": [
       "(36, 36, 36)"
      ]
     },
     "execution_count": 133,
     "metadata": {},
     "output_type": "execute_result"
    }
   ],
   "source": [
    "wp[0].shape"
   ]
  },
  {
   "cell_type": "code",
   "execution_count": 134,
   "metadata": {},
   "outputs": [
    {
     "data": {
      "text/plain": [
       "(array([    1,     2,     3,     5,    35,   245, 45244,   432,   171,\n",
       "          100,    68,    42,    44,    22,    16,    17,    16,    17,\n",
       "           20,    12,     2,     9,    14,     9,     8,    10,     7,\n",
       "            2,     3,     5,     3,     3,     1,     4,     2,     1,\n",
       "            3,     3,     0,     2,     1,     7,     1,     3,     3,\n",
       "            3,     3,     1,     3,     2,     1,     3,     2,     1,\n",
       "            0,     1,     0,     1,     1,     0,     0,     1,     0,\n",
       "            1,     0,     0,     2,     0,     0,     1,     0,     1,\n",
       "            0,     0,     0,     1,     2,     1,     0,     0,     0,\n",
       "            2,     0,     0,     0,     0,     1,     1,     1,     0,\n",
       "            0,     0,     0,     0,     0,     0,     0,     0,     0,\n",
       "            1]),\n",
       " array([-2.92759377, -2.46681685, -2.00603993, -1.545263  , -1.08448608,\n",
       "        -0.62370916, -0.16293224,  0.29784468,  0.75862161,  1.21939853,\n",
       "         1.68017545,  2.14095237,  2.60172929,  3.06250622,  3.52328314,\n",
       "         3.98406006,  4.44483698,  4.90561391,  5.36639083,  5.82716775,\n",
       "         6.28794467,  6.74872159,  7.20949852,  7.67027544,  8.13105236,\n",
       "         8.59182928,  9.0526062 ,  9.51338313,  9.97416005, 10.43493697,\n",
       "        10.89571389, 11.35649081, 11.81726774, 12.27804466, 12.73882158,\n",
       "        13.1995985 , 13.66037542, 14.12115235, 14.58192927, 15.04270619,\n",
       "        15.50348311, 15.96426003, 16.42503696, 16.88581388, 17.3465908 ,\n",
       "        17.80736772, 18.26814465, 18.72892157, 19.18969849, 19.65047541,\n",
       "        20.11125233, 20.57202926, 21.03280618, 21.4935831 , 21.95436002,\n",
       "        22.41513694, 22.87591387, 23.33669079, 23.79746771, 24.25824463,\n",
       "        24.71902155, 25.17979848, 25.6405754 , 26.10135232, 26.56212924,\n",
       "        27.02290616, 27.48368309, 27.94446001, 28.40523693, 28.86601385,\n",
       "        29.32679078, 29.7875677 , 30.24834462, 30.70912154, 31.16989846,\n",
       "        31.63067539, 32.09145231, 32.55222923, 33.01300615, 33.47378307,\n",
       "        33.93456   , 34.39533692, 34.85611384, 35.31689076, 35.77766768,\n",
       "        36.23844461, 36.69922153, 37.15999845, 37.62077537, 38.08155229,\n",
       "        38.54232922, 39.00310614, 39.46388306, 39.92465998, 40.3854369 ,\n",
       "        40.84621383, 41.30699075, 41.76776767, 42.22854459, 42.68932152,\n",
       "        43.15009844]))"
      ]
     },
     "execution_count": 134,
     "metadata": {},
     "output_type": "execute_result"
    }
   ],
   "source": [
    "#View the distribution of the DWT values\n",
    "np.histogram(wp[0], bins=100)"
   ]
  },
  {
   "cell_type": "markdown",
   "metadata": {},
   "source": [
    "# Threshold the results of DWT"
   ]
  },
  {
   "cell_type": "code",
   "execution_count": 135,
   "metadata": {},
   "outputs": [],
   "source": [
    "#Pick a threshold value.  \n",
    "# For climate data, we probably only want the approximate (low frequency) coefficents to cluster. \n",
    "epsilon = .0001"
   ]
  },
  {
   "cell_type": "code",
   "execution_count": 136,
   "metadata": {},
   "outputs": [],
   "source": [
    "#Threshold the DWT\n",
    "wp[0][abs(wp[0])<epsilon] = 0\n",
    "wp[0][abs(wp[0])>=epsilon] = 1"
   ]
  },
  {
   "cell_type": "code",
   "execution_count": 137,
   "metadata": {},
   "outputs": [
    {
     "data": {
      "text/plain": [
       "(array([39311,     0,     0,     0,     0,     0,     0,     0,     0,\n",
       "            0,     0,     0,     0,     0,     0,     0,     0,     0,\n",
       "            0,     0,     0,     0,     0,     0,     0,     0,     0,\n",
       "            0,     0,     0,     0,     0,     0,     0,     0,     0,\n",
       "            0,     0,     0,     0,     0,     0,     0,     0,     0,\n",
       "            0,     0,     0,     0,     0,     0,     0,     0,     0,\n",
       "            0,     0,     0,     0,     0,     0,     0,     0,     0,\n",
       "            0,     0,     0,     0,     0,     0,     0,     0,     0,\n",
       "            0,     0,     0,     0,     0,     0,     0,     0,     0,\n",
       "            0,     0,     0,     0,     0,     0,     0,     0,     0,\n",
       "            0,     0,     0,     0,     0,     0,     0,     0,     0,\n",
       "         7345]),\n",
       " array([0.  , 0.01, 0.02, 0.03, 0.04, 0.05, 0.06, 0.07, 0.08, 0.09, 0.1 ,\n",
       "        0.11, 0.12, 0.13, 0.14, 0.15, 0.16, 0.17, 0.18, 0.19, 0.2 , 0.21,\n",
       "        0.22, 0.23, 0.24, 0.25, 0.26, 0.27, 0.28, 0.29, 0.3 , 0.31, 0.32,\n",
       "        0.33, 0.34, 0.35, 0.36, 0.37, 0.38, 0.39, 0.4 , 0.41, 0.42, 0.43,\n",
       "        0.44, 0.45, 0.46, 0.47, 0.48, 0.49, 0.5 , 0.51, 0.52, 0.53, 0.54,\n",
       "        0.55, 0.56, 0.57, 0.58, 0.59, 0.6 , 0.61, 0.62, 0.63, 0.64, 0.65,\n",
       "        0.66, 0.67, 0.68, 0.69, 0.7 , 0.71, 0.72, 0.73, 0.74, 0.75, 0.76,\n",
       "        0.77, 0.78, 0.79, 0.8 , 0.81, 0.82, 0.83, 0.84, 0.85, 0.86, 0.87,\n",
       "        0.88, 0.89, 0.9 , 0.91, 0.92, 0.93, 0.94, 0.95, 0.96, 0.97, 0.98,\n",
       "        0.99, 1.  ]))"
      ]
     },
     "execution_count": 137,
     "metadata": {},
     "output_type": "execute_result"
    }
   ],
   "source": [
    "#View the distribution of the threshold DWT values\n",
    "np.histogram(wp[0], bins=100)"
   ]
  },
  {
   "cell_type": "markdown",
   "metadata": {},
   "source": [
    "# Find connected components"
   ]
  },
  {
   "cell_type": "code",
   "execution_count": 138,
   "metadata": {},
   "outputs": [],
   "source": [
    "#Compute the connected components of each thresholed DWT.  Adjacnecy is determined by ``four'' connectivity.\n",
    "component = ndimage.label(wp[0])[0]"
   ]
  },
  {
   "cell_type": "code",
   "execution_count": 140,
   "metadata": {},
   "outputs": [
    {
     "data": {
      "text/plain": [
       "(array([39311,  7339,     6]), array([0., 1., 2., 3.]))"
      ]
     },
     "execution_count": 140,
     "metadata": {},
     "output_type": "execute_result"
    }
   ],
   "source": [
    "np.histogram(component, bins=3)"
   ]
  },
  {
   "cell_type": "code",
   "execution_count": null,
   "metadata": {},
   "outputs": [],
   "source": [
    "#Remove components that have a small number of points in them?"
   ]
  },
  {
   "cell_type": "code",
   "execution_count": 139,
   "metadata": {},
   "outputs": [
    {
     "data": {
      "text/plain": [
       "3"
      ]
     },
     "execution_count": 139,
     "metadata": {},
     "output_type": "execute_result"
    }
   ],
   "source": [
    "#Check number of connected components\n",
    "np.max(component)"
   ]
  },
  {
   "cell_type": "markdown",
   "metadata": {},
   "source": [
    "# Create lookup Table"
   ]
  },
  {
   "cell_type": "code",
   "execution_count": 168,
   "metadata": {},
   "outputs": [],
   "source": [
    "#The following lookup table is only built to handle the Haar wavelet.\n",
    "#First, label data_quant classes\n",
    "classes = np.repeat(component, levels + 1)\n",
    "\n",
    "if data_quant.size % 2 ==1:  #If odd number of elements in array, need to deal with right endpoint\n",
    "    classes = classes[:-1]"
   ]
  },
  {
   "cell_type": "code",
   "execution_count": 170,
   "metadata": {},
   "outputs": [
    {
     "data": {
      "text/plain": [
       "(4194304,)"
      ]
     },
     "execution_count": 170,
     "metadata": {},
     "output_type": "execute_result"
    }
   ],
   "source": [
    "classes.shape"
   ]
  },
  {
   "cell_type": "code",
   "execution_count": null,
   "metadata": {},
   "outputs": [],
   "source": []
  }
 ],
 "metadata": {
  "kernelspec": {
   "display_name": "Python 3",
   "language": "python",
   "name": "python3"
  },
  "language_info": {
   "codemirror_mode": {
    "name": "ipython",
    "version": 3
   },
   "file_extension": ".py",
   "mimetype": "text/x-python",
   "name": "python",
   "nbconvert_exporter": "python",
   "pygments_lexer": "ipython3",
   "version": "3.6.5"
  }
 },
 "nbformat": 4,
 "nbformat_minor": 2
}
